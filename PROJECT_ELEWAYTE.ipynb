{
  "cells": [
    {
      "cell_type": "markdown",
      "metadata": {
        "id": "view-in-github",
        "colab_type": "text"
      },
      "source": [
        "<a href=\"https://colab.research.google.com/github/VeeraPolu/Data-Analysis-and-Visualization-/blob/main/PROJECT_ELEWAYTE.ipynb\" target=\"_parent\"><img src=\"https://colab.research.google.com/assets/colab-badge.svg\" alt=\"Open In Colab\"/></a>"
      ]
    },
    {
      "cell_type": "markdown",
      "source": [
        "NAME: P. VEERADATTA\n",
        "\n",
        "EMAIL: veerapr16@gmail.com"
      ],
      "metadata": {
        "id": "6qex3phr-r7h"
      }
    },
    {
      "cell_type": "code",
      "execution_count": null,
      "metadata": {
        "colab": {
          "base_uri": "https://localhost:8080/",
          "height": 206
        },
        "id": "kg5ZBwdSptKS",
        "outputId": "d26c2947-800e-4069-b4a8-c561c943bc35"
      },
      "outputs": [
        {
          "output_type": "execute_result",
          "data": {
            "text/plain": [
              "               Name  Gender   Department     Salary          Loc     Rating\n",
              "0      Ches Bonnell    Male        Sales   $88,050      Bellevue  Very Good\n",
              "1  Garwin Peasegood  Female  Engineering   $68,220      Bellevue       Good\n",
              "2   Sidoney Yitzhok  Female          NaN  $118,440    Wellington  Not Rated\n",
              "3  Saunders Blumson     NaN        Legal   $56,370   Los Angeles  Very Good\n",
              "4    Gardy Grigorey  Female      Support  $107,090   Los Angeles       Poor"
            ],
            "text/html": [
              "\n",
              "  <div id=\"df-c5cbd4fb-0acb-449e-b0d9-bd4e60316257\">\n",
              "    <div class=\"colab-df-container\">\n",
              "      <div>\n",
              "<style scoped>\n",
              "    .dataframe tbody tr th:only-of-type {\n",
              "        vertical-align: middle;\n",
              "    }\n",
              "\n",
              "    .dataframe tbody tr th {\n",
              "        vertical-align: top;\n",
              "    }\n",
              "\n",
              "    .dataframe thead th {\n",
              "        text-align: right;\n",
              "    }\n",
              "</style>\n",
              "<table border=\"1\" class=\"dataframe\">\n",
              "  <thead>\n",
              "    <tr style=\"text-align: right;\">\n",
              "      <th></th>\n",
              "      <th>Name</th>\n",
              "      <th>Gender</th>\n",
              "      <th>Department</th>\n",
              "      <th>Salary</th>\n",
              "      <th>Loc</th>\n",
              "      <th>Rating</th>\n",
              "    </tr>\n",
              "  </thead>\n",
              "  <tbody>\n",
              "    <tr>\n",
              "      <th>0</th>\n",
              "      <td>Ches Bonnell</td>\n",
              "      <td>Male</td>\n",
              "      <td>Sales</td>\n",
              "      <td>$88,050</td>\n",
              "      <td>Bellevue</td>\n",
              "      <td>Very Good</td>\n",
              "    </tr>\n",
              "    <tr>\n",
              "      <th>1</th>\n",
              "      <td>Garwin Peasegood</td>\n",
              "      <td>Female</td>\n",
              "      <td>Engineering</td>\n",
              "      <td>$68,220</td>\n",
              "      <td>Bellevue</td>\n",
              "      <td>Good</td>\n",
              "    </tr>\n",
              "    <tr>\n",
              "      <th>2</th>\n",
              "      <td>Sidoney Yitzhok</td>\n",
              "      <td>Female</td>\n",
              "      <td>NaN</td>\n",
              "      <td>$118,440</td>\n",
              "      <td>Wellington</td>\n",
              "      <td>Not Rated</td>\n",
              "    </tr>\n",
              "    <tr>\n",
              "      <th>3</th>\n",
              "      <td>Saunders Blumson</td>\n",
              "      <td>NaN</td>\n",
              "      <td>Legal</td>\n",
              "      <td>$56,370</td>\n",
              "      <td>Los Angeles</td>\n",
              "      <td>Very Good</td>\n",
              "    </tr>\n",
              "    <tr>\n",
              "      <th>4</th>\n",
              "      <td>Gardy Grigorey</td>\n",
              "      <td>Female</td>\n",
              "      <td>Support</td>\n",
              "      <td>$107,090</td>\n",
              "      <td>Los Angeles</td>\n",
              "      <td>Poor</td>\n",
              "    </tr>\n",
              "  </tbody>\n",
              "</table>\n",
              "</div>\n",
              "      <button class=\"colab-df-convert\" onclick=\"convertToInteractive('df-c5cbd4fb-0acb-449e-b0d9-bd4e60316257')\"\n",
              "              title=\"Convert this dataframe to an interactive table.\"\n",
              "              style=\"display:none;\">\n",
              "        \n",
              "  <svg xmlns=\"http://www.w3.org/2000/svg\" height=\"24px\"viewBox=\"0 0 24 24\"\n",
              "       width=\"24px\">\n",
              "    <path d=\"M0 0h24v24H0V0z\" fill=\"none\"/>\n",
              "    <path d=\"M18.56 5.44l.94 2.06.94-2.06 2.06-.94-2.06-.94-.94-2.06-.94 2.06-2.06.94zm-11 1L8.5 8.5l.94-2.06 2.06-.94-2.06-.94L8.5 2.5l-.94 2.06-2.06.94zm10 10l.94 2.06.94-2.06 2.06-.94-2.06-.94-.94-2.06-.94 2.06-2.06.94z\"/><path d=\"M17.41 7.96l-1.37-1.37c-.4-.4-.92-.59-1.43-.59-.52 0-1.04.2-1.43.59L10.3 9.45l-7.72 7.72c-.78.78-.78 2.05 0 2.83L4 21.41c.39.39.9.59 1.41.59.51 0 1.02-.2 1.41-.59l7.78-7.78 2.81-2.81c.8-.78.8-2.07 0-2.86zM5.41 20L4 18.59l7.72-7.72 1.47 1.35L5.41 20z\"/>\n",
              "  </svg>\n",
              "      </button>\n",
              "      \n",
              "  <style>\n",
              "    .colab-df-container {\n",
              "      display:flex;\n",
              "      flex-wrap:wrap;\n",
              "      gap: 12px;\n",
              "    }\n",
              "\n",
              "    .colab-df-convert {\n",
              "      background-color: #E8F0FE;\n",
              "      border: none;\n",
              "      border-radius: 50%;\n",
              "      cursor: pointer;\n",
              "      display: none;\n",
              "      fill: #1967D2;\n",
              "      height: 32px;\n",
              "      padding: 0 0 0 0;\n",
              "      width: 32px;\n",
              "    }\n",
              "\n",
              "    .colab-df-convert:hover {\n",
              "      background-color: #E2EBFA;\n",
              "      box-shadow: 0px 1px 2px rgba(60, 64, 67, 0.3), 0px 1px 3px 1px rgba(60, 64, 67, 0.15);\n",
              "      fill: #174EA6;\n",
              "    }\n",
              "\n",
              "    [theme=dark] .colab-df-convert {\n",
              "      background-color: #3B4455;\n",
              "      fill: #D2E3FC;\n",
              "    }\n",
              "\n",
              "    [theme=dark] .colab-df-convert:hover {\n",
              "      background-color: #434B5C;\n",
              "      box-shadow: 0px 1px 3px 1px rgba(0, 0, 0, 0.15);\n",
              "      filter: drop-shadow(0px 1px 2px rgba(0, 0, 0, 0.3));\n",
              "      fill: #FFFFFF;\n",
              "    }\n",
              "  </style>\n",
              "\n",
              "      <script>\n",
              "        const buttonEl =\n",
              "          document.querySelector('#df-c5cbd4fb-0acb-449e-b0d9-bd4e60316257 button.colab-df-convert');\n",
              "        buttonEl.style.display =\n",
              "          google.colab.kernel.accessAllowed ? 'block' : 'none';\n",
              "\n",
              "        async function convertToInteractive(key) {\n",
              "          const element = document.querySelector('#df-c5cbd4fb-0acb-449e-b0d9-bd4e60316257');\n",
              "          const dataTable =\n",
              "            await google.colab.kernel.invokeFunction('convertToInteractive',\n",
              "                                                     [key], {});\n",
              "          if (!dataTable) return;\n",
              "\n",
              "          const docLinkHtml = 'Like what you see? Visit the ' +\n",
              "            '<a target=\"_blank\" href=https://colab.research.google.com/notebooks/data_table.ipynb>data table notebook</a>'\n",
              "            + ' to learn more about interactive tables.';\n",
              "          element.innerHTML = '';\n",
              "          dataTable['output_type'] = 'display_data';\n",
              "          await google.colab.output.renderOutput(dataTable, element);\n",
              "          const docLink = document.createElement('div');\n",
              "          docLink.innerHTML = docLinkHtml;\n",
              "          element.appendChild(docLink);\n",
              "        }\n",
              "      </script>\n",
              "    </div>\n",
              "  </div>\n",
              "  "
            ]
          },
          "metadata": {},
          "execution_count": 1
        }
      ],
      "source": [
        "import pandas as pd\n",
        "info=pd.read_csv(\"https://raw.githubusercontent.com/arora123/Data/master/emp-data.csv\")\n",
        "info.head()"
      ]
    },
    {
      "cell_type": "code",
      "execution_count": null,
      "metadata": {
        "colab": {
          "base_uri": "https://localhost:8080/",
          "height": 424
        },
        "id": "5AbW2cseqtRW",
        "outputId": "64e4ffa5-1bc8-4d45-b870-78c240231b83"
      },
      "outputs": [
        {
          "output_type": "execute_result",
          "data": {
            "text/plain": [
              "                    Name  Gender            Department     Salary  \\\n",
              "0           Ches Bonnell    Male                 Sales   $88,050    \n",
              "1       Garwin Peasegood  Female           Engineering   $68,220    \n",
              "2        Sidoney Yitzhok  Female                   NaN  $118,440    \n",
              "3       Saunders Blumson     NaN                 Legal   $56,370    \n",
              "4         Gardy Grigorey  Female               Support  $107,090    \n",
              "...                  ...     ...                   ...        ...   \n",
              "1010    Shaylyn Ransbury  Female               Support  $100,370    \n",
              "1011  Christoph Stretton  Female  Business Development   $90,240    \n",
              "1012      Jordain Cyster  Female           Engineering   $75,870    \n",
              "1013        Malory Biles  Female              Training   $58,740    \n",
              "1014           Adey Ryal  Female                 Legal   $32,500    \n",
              "\n",
              "              Loc     Rating  \n",
              "0        Bellevue  Very Good  \n",
              "1        Bellevue       Good  \n",
              "2      Wellington  Not Rated  \n",
              "3     Los Angeles  Very Good  \n",
              "4     Los Angeles       Poor  \n",
              "...           ...        ...  \n",
              "1010   Wellington    Average  \n",
              "1011   Wellington       Poor  \n",
              "1012  Los Angeles    Average  \n",
              "1013  Los Angeles  Not Rated  \n",
              "1014     Bellevue    Average  \n",
              "\n",
              "[1015 rows x 6 columns]"
            ],
            "text/html": [
              "\n",
              "  <div id=\"df-8d6014bc-537a-43b3-ade1-636217b9cbc7\">\n",
              "    <div class=\"colab-df-container\">\n",
              "      <div>\n",
              "<style scoped>\n",
              "    .dataframe tbody tr th:only-of-type {\n",
              "        vertical-align: middle;\n",
              "    }\n",
              "\n",
              "    .dataframe tbody tr th {\n",
              "        vertical-align: top;\n",
              "    }\n",
              "\n",
              "    .dataframe thead th {\n",
              "        text-align: right;\n",
              "    }\n",
              "</style>\n",
              "<table border=\"1\" class=\"dataframe\">\n",
              "  <thead>\n",
              "    <tr style=\"text-align: right;\">\n",
              "      <th></th>\n",
              "      <th>Name</th>\n",
              "      <th>Gender</th>\n",
              "      <th>Department</th>\n",
              "      <th>Salary</th>\n",
              "      <th>Loc</th>\n",
              "      <th>Rating</th>\n",
              "    </tr>\n",
              "  </thead>\n",
              "  <tbody>\n",
              "    <tr>\n",
              "      <th>0</th>\n",
              "      <td>Ches Bonnell</td>\n",
              "      <td>Male</td>\n",
              "      <td>Sales</td>\n",
              "      <td>$88,050</td>\n",
              "      <td>Bellevue</td>\n",
              "      <td>Very Good</td>\n",
              "    </tr>\n",
              "    <tr>\n",
              "      <th>1</th>\n",
              "      <td>Garwin Peasegood</td>\n",
              "      <td>Female</td>\n",
              "      <td>Engineering</td>\n",
              "      <td>$68,220</td>\n",
              "      <td>Bellevue</td>\n",
              "      <td>Good</td>\n",
              "    </tr>\n",
              "    <tr>\n",
              "      <th>2</th>\n",
              "      <td>Sidoney Yitzhok</td>\n",
              "      <td>Female</td>\n",
              "      <td>NaN</td>\n",
              "      <td>$118,440</td>\n",
              "      <td>Wellington</td>\n",
              "      <td>Not Rated</td>\n",
              "    </tr>\n",
              "    <tr>\n",
              "      <th>3</th>\n",
              "      <td>Saunders Blumson</td>\n",
              "      <td>NaN</td>\n",
              "      <td>Legal</td>\n",
              "      <td>$56,370</td>\n",
              "      <td>Los Angeles</td>\n",
              "      <td>Very Good</td>\n",
              "    </tr>\n",
              "    <tr>\n",
              "      <th>4</th>\n",
              "      <td>Gardy Grigorey</td>\n",
              "      <td>Female</td>\n",
              "      <td>Support</td>\n",
              "      <td>$107,090</td>\n",
              "      <td>Los Angeles</td>\n",
              "      <td>Poor</td>\n",
              "    </tr>\n",
              "    <tr>\n",
              "      <th>...</th>\n",
              "      <td>...</td>\n",
              "      <td>...</td>\n",
              "      <td>...</td>\n",
              "      <td>...</td>\n",
              "      <td>...</td>\n",
              "      <td>...</td>\n",
              "    </tr>\n",
              "    <tr>\n",
              "      <th>1010</th>\n",
              "      <td>Shaylyn Ransbury</td>\n",
              "      <td>Female</td>\n",
              "      <td>Support</td>\n",
              "      <td>$100,370</td>\n",
              "      <td>Wellington</td>\n",
              "      <td>Average</td>\n",
              "    </tr>\n",
              "    <tr>\n",
              "      <th>1011</th>\n",
              "      <td>Christoph Stretton</td>\n",
              "      <td>Female</td>\n",
              "      <td>Business Development</td>\n",
              "      <td>$90,240</td>\n",
              "      <td>Wellington</td>\n",
              "      <td>Poor</td>\n",
              "    </tr>\n",
              "    <tr>\n",
              "      <th>1012</th>\n",
              "      <td>Jordain Cyster</td>\n",
              "      <td>Female</td>\n",
              "      <td>Engineering</td>\n",
              "      <td>$75,870</td>\n",
              "      <td>Los Angeles</td>\n",
              "      <td>Average</td>\n",
              "    </tr>\n",
              "    <tr>\n",
              "      <th>1013</th>\n",
              "      <td>Malory Biles</td>\n",
              "      <td>Female</td>\n",
              "      <td>Training</td>\n",
              "      <td>$58,740</td>\n",
              "      <td>Los Angeles</td>\n",
              "      <td>Not Rated</td>\n",
              "    </tr>\n",
              "    <tr>\n",
              "      <th>1014</th>\n",
              "      <td>Adey Ryal</td>\n",
              "      <td>Female</td>\n",
              "      <td>Legal</td>\n",
              "      <td>$32,500</td>\n",
              "      <td>Bellevue</td>\n",
              "      <td>Average</td>\n",
              "    </tr>\n",
              "  </tbody>\n",
              "</table>\n",
              "<p>1015 rows × 6 columns</p>\n",
              "</div>\n",
              "      <button class=\"colab-df-convert\" onclick=\"convertToInteractive('df-8d6014bc-537a-43b3-ade1-636217b9cbc7')\"\n",
              "              title=\"Convert this dataframe to an interactive table.\"\n",
              "              style=\"display:none;\">\n",
              "        \n",
              "  <svg xmlns=\"http://www.w3.org/2000/svg\" height=\"24px\"viewBox=\"0 0 24 24\"\n",
              "       width=\"24px\">\n",
              "    <path d=\"M0 0h24v24H0V0z\" fill=\"none\"/>\n",
              "    <path d=\"M18.56 5.44l.94 2.06.94-2.06 2.06-.94-2.06-.94-.94-2.06-.94 2.06-2.06.94zm-11 1L8.5 8.5l.94-2.06 2.06-.94-2.06-.94L8.5 2.5l-.94 2.06-2.06.94zm10 10l.94 2.06.94-2.06 2.06-.94-2.06-.94-.94-2.06-.94 2.06-2.06.94z\"/><path d=\"M17.41 7.96l-1.37-1.37c-.4-.4-.92-.59-1.43-.59-.52 0-1.04.2-1.43.59L10.3 9.45l-7.72 7.72c-.78.78-.78 2.05 0 2.83L4 21.41c.39.39.9.59 1.41.59.51 0 1.02-.2 1.41-.59l7.78-7.78 2.81-2.81c.8-.78.8-2.07 0-2.86zM5.41 20L4 18.59l7.72-7.72 1.47 1.35L5.41 20z\"/>\n",
              "  </svg>\n",
              "      </button>\n",
              "      \n",
              "  <style>\n",
              "    .colab-df-container {\n",
              "      display:flex;\n",
              "      flex-wrap:wrap;\n",
              "      gap: 12px;\n",
              "    }\n",
              "\n",
              "    .colab-df-convert {\n",
              "      background-color: #E8F0FE;\n",
              "      border: none;\n",
              "      border-radius: 50%;\n",
              "      cursor: pointer;\n",
              "      display: none;\n",
              "      fill: #1967D2;\n",
              "      height: 32px;\n",
              "      padding: 0 0 0 0;\n",
              "      width: 32px;\n",
              "    }\n",
              "\n",
              "    .colab-df-convert:hover {\n",
              "      background-color: #E2EBFA;\n",
              "      box-shadow: 0px 1px 2px rgba(60, 64, 67, 0.3), 0px 1px 3px 1px rgba(60, 64, 67, 0.15);\n",
              "      fill: #174EA6;\n",
              "    }\n",
              "\n",
              "    [theme=dark] .colab-df-convert {\n",
              "      background-color: #3B4455;\n",
              "      fill: #D2E3FC;\n",
              "    }\n",
              "\n",
              "    [theme=dark] .colab-df-convert:hover {\n",
              "      background-color: #434B5C;\n",
              "      box-shadow: 0px 1px 3px 1px rgba(0, 0, 0, 0.15);\n",
              "      filter: drop-shadow(0px 1px 2px rgba(0, 0, 0, 0.3));\n",
              "      fill: #FFFFFF;\n",
              "    }\n",
              "  </style>\n",
              "\n",
              "      <script>\n",
              "        const buttonEl =\n",
              "          document.querySelector('#df-8d6014bc-537a-43b3-ade1-636217b9cbc7 button.colab-df-convert');\n",
              "        buttonEl.style.display =\n",
              "          google.colab.kernel.accessAllowed ? 'block' : 'none';\n",
              "\n",
              "        async function convertToInteractive(key) {\n",
              "          const element = document.querySelector('#df-8d6014bc-537a-43b3-ade1-636217b9cbc7');\n",
              "          const dataTable =\n",
              "            await google.colab.kernel.invokeFunction('convertToInteractive',\n",
              "                                                     [key], {});\n",
              "          if (!dataTable) return;\n",
              "\n",
              "          const docLinkHtml = 'Like what you see? Visit the ' +\n",
              "            '<a target=\"_blank\" href=https://colab.research.google.com/notebooks/data_table.ipynb>data table notebook</a>'\n",
              "            + ' to learn more about interactive tables.';\n",
              "          element.innerHTML = '';\n",
              "          dataTable['output_type'] = 'display_data';\n",
              "          await google.colab.output.renderOutput(dataTable, element);\n",
              "          const docLink = document.createElement('div');\n",
              "          docLink.innerHTML = docLinkHtml;\n",
              "          element.appendChild(docLink);\n",
              "        }\n",
              "      </script>\n",
              "    </div>\n",
              "  </div>\n",
              "  "
            ]
          },
          "metadata": {},
          "execution_count": 2
        }
      ],
      "source": [
        "info"
      ]
    },
    {
      "cell_type": "code",
      "execution_count": null,
      "metadata": {
        "colab": {
          "base_uri": "https://localhost:8080/",
          "height": 206
        },
        "id": "iUm9dd_Vqv1q",
        "outputId": "421218c3-1ef5-4788-ed50-9531ad7e4e91"
      },
      "outputs": [
        {
          "output_type": "execute_result",
          "data": {
            "text/plain": [
              "                    Name  Gender            Department     Salary  \\\n",
              "1010    Shaylyn Ransbury  Female               Support  $100,370    \n",
              "1011  Christoph Stretton  Female  Business Development   $90,240    \n",
              "1012      Jordain Cyster  Female           Engineering   $75,870    \n",
              "1013        Malory Biles  Female              Training   $58,740    \n",
              "1014           Adey Ryal  Female                 Legal   $32,500    \n",
              "\n",
              "              Loc     Rating  \n",
              "1010   Wellington    Average  \n",
              "1011   Wellington       Poor  \n",
              "1012  Los Angeles    Average  \n",
              "1013  Los Angeles  Not Rated  \n",
              "1014     Bellevue    Average  "
            ],
            "text/html": [
              "\n",
              "  <div id=\"df-818f1f60-9bf7-4f03-91f0-0eecdd193b62\">\n",
              "    <div class=\"colab-df-container\">\n",
              "      <div>\n",
              "<style scoped>\n",
              "    .dataframe tbody tr th:only-of-type {\n",
              "        vertical-align: middle;\n",
              "    }\n",
              "\n",
              "    .dataframe tbody tr th {\n",
              "        vertical-align: top;\n",
              "    }\n",
              "\n",
              "    .dataframe thead th {\n",
              "        text-align: right;\n",
              "    }\n",
              "</style>\n",
              "<table border=\"1\" class=\"dataframe\">\n",
              "  <thead>\n",
              "    <tr style=\"text-align: right;\">\n",
              "      <th></th>\n",
              "      <th>Name</th>\n",
              "      <th>Gender</th>\n",
              "      <th>Department</th>\n",
              "      <th>Salary</th>\n",
              "      <th>Loc</th>\n",
              "      <th>Rating</th>\n",
              "    </tr>\n",
              "  </thead>\n",
              "  <tbody>\n",
              "    <tr>\n",
              "      <th>1010</th>\n",
              "      <td>Shaylyn Ransbury</td>\n",
              "      <td>Female</td>\n",
              "      <td>Support</td>\n",
              "      <td>$100,370</td>\n",
              "      <td>Wellington</td>\n",
              "      <td>Average</td>\n",
              "    </tr>\n",
              "    <tr>\n",
              "      <th>1011</th>\n",
              "      <td>Christoph Stretton</td>\n",
              "      <td>Female</td>\n",
              "      <td>Business Development</td>\n",
              "      <td>$90,240</td>\n",
              "      <td>Wellington</td>\n",
              "      <td>Poor</td>\n",
              "    </tr>\n",
              "    <tr>\n",
              "      <th>1012</th>\n",
              "      <td>Jordain Cyster</td>\n",
              "      <td>Female</td>\n",
              "      <td>Engineering</td>\n",
              "      <td>$75,870</td>\n",
              "      <td>Los Angeles</td>\n",
              "      <td>Average</td>\n",
              "    </tr>\n",
              "    <tr>\n",
              "      <th>1013</th>\n",
              "      <td>Malory Biles</td>\n",
              "      <td>Female</td>\n",
              "      <td>Training</td>\n",
              "      <td>$58,740</td>\n",
              "      <td>Los Angeles</td>\n",
              "      <td>Not Rated</td>\n",
              "    </tr>\n",
              "    <tr>\n",
              "      <th>1014</th>\n",
              "      <td>Adey Ryal</td>\n",
              "      <td>Female</td>\n",
              "      <td>Legal</td>\n",
              "      <td>$32,500</td>\n",
              "      <td>Bellevue</td>\n",
              "      <td>Average</td>\n",
              "    </tr>\n",
              "  </tbody>\n",
              "</table>\n",
              "</div>\n",
              "      <button class=\"colab-df-convert\" onclick=\"convertToInteractive('df-818f1f60-9bf7-4f03-91f0-0eecdd193b62')\"\n",
              "              title=\"Convert this dataframe to an interactive table.\"\n",
              "              style=\"display:none;\">\n",
              "        \n",
              "  <svg xmlns=\"http://www.w3.org/2000/svg\" height=\"24px\"viewBox=\"0 0 24 24\"\n",
              "       width=\"24px\">\n",
              "    <path d=\"M0 0h24v24H0V0z\" fill=\"none\"/>\n",
              "    <path d=\"M18.56 5.44l.94 2.06.94-2.06 2.06-.94-2.06-.94-.94-2.06-.94 2.06-2.06.94zm-11 1L8.5 8.5l.94-2.06 2.06-.94-2.06-.94L8.5 2.5l-.94 2.06-2.06.94zm10 10l.94 2.06.94-2.06 2.06-.94-2.06-.94-.94-2.06-.94 2.06-2.06.94z\"/><path d=\"M17.41 7.96l-1.37-1.37c-.4-.4-.92-.59-1.43-.59-.52 0-1.04.2-1.43.59L10.3 9.45l-7.72 7.72c-.78.78-.78 2.05 0 2.83L4 21.41c.39.39.9.59 1.41.59.51 0 1.02-.2 1.41-.59l7.78-7.78 2.81-2.81c.8-.78.8-2.07 0-2.86zM5.41 20L4 18.59l7.72-7.72 1.47 1.35L5.41 20z\"/>\n",
              "  </svg>\n",
              "      </button>\n",
              "      \n",
              "  <style>\n",
              "    .colab-df-container {\n",
              "      display:flex;\n",
              "      flex-wrap:wrap;\n",
              "      gap: 12px;\n",
              "    }\n",
              "\n",
              "    .colab-df-convert {\n",
              "      background-color: #E8F0FE;\n",
              "      border: none;\n",
              "      border-radius: 50%;\n",
              "      cursor: pointer;\n",
              "      display: none;\n",
              "      fill: #1967D2;\n",
              "      height: 32px;\n",
              "      padding: 0 0 0 0;\n",
              "      width: 32px;\n",
              "    }\n",
              "\n",
              "    .colab-df-convert:hover {\n",
              "      background-color: #E2EBFA;\n",
              "      box-shadow: 0px 1px 2px rgba(60, 64, 67, 0.3), 0px 1px 3px 1px rgba(60, 64, 67, 0.15);\n",
              "      fill: #174EA6;\n",
              "    }\n",
              "\n",
              "    [theme=dark] .colab-df-convert {\n",
              "      background-color: #3B4455;\n",
              "      fill: #D2E3FC;\n",
              "    }\n",
              "\n",
              "    [theme=dark] .colab-df-convert:hover {\n",
              "      background-color: #434B5C;\n",
              "      box-shadow: 0px 1px 3px 1px rgba(0, 0, 0, 0.15);\n",
              "      filter: drop-shadow(0px 1px 2px rgba(0, 0, 0, 0.3));\n",
              "      fill: #FFFFFF;\n",
              "    }\n",
              "  </style>\n",
              "\n",
              "      <script>\n",
              "        const buttonEl =\n",
              "          document.querySelector('#df-818f1f60-9bf7-4f03-91f0-0eecdd193b62 button.colab-df-convert');\n",
              "        buttonEl.style.display =\n",
              "          google.colab.kernel.accessAllowed ? 'block' : 'none';\n",
              "\n",
              "        async function convertToInteractive(key) {\n",
              "          const element = document.querySelector('#df-818f1f60-9bf7-4f03-91f0-0eecdd193b62');\n",
              "          const dataTable =\n",
              "            await google.colab.kernel.invokeFunction('convertToInteractive',\n",
              "                                                     [key], {});\n",
              "          if (!dataTable) return;\n",
              "\n",
              "          const docLinkHtml = 'Like what you see? Visit the ' +\n",
              "            '<a target=\"_blank\" href=https://colab.research.google.com/notebooks/data_table.ipynb>data table notebook</a>'\n",
              "            + ' to learn more about interactive tables.';\n",
              "          element.innerHTML = '';\n",
              "          dataTable['output_type'] = 'display_data';\n",
              "          await google.colab.output.renderOutput(dataTable, element);\n",
              "          const docLink = document.createElement('div');\n",
              "          docLink.innerHTML = docLinkHtml;\n",
              "          element.appendChild(docLink);\n",
              "        }\n",
              "      </script>\n",
              "    </div>\n",
              "  </div>\n",
              "  "
            ]
          },
          "metadata": {},
          "execution_count": 3
        }
      ],
      "source": [
        "info.tail()"
      ]
    },
    {
      "cell_type": "code",
      "execution_count": null,
      "metadata": {
        "colab": {
          "base_uri": "https://localhost:8080/"
        },
        "id": "ABNPsQZSqykl",
        "outputId": "4ea008c9-6644-47e3-e39d-823044e9a41f"
      },
      "outputs": [
        {
          "output_type": "stream",
          "name": "stdout",
          "text": [
            "<class 'pandas.core.frame.DataFrame'>\n",
            "RangeIndex: 1015 entries, 0 to 1014\n",
            "Data columns (total 6 columns):\n",
            " #   Column      Non-Null Count  Dtype \n",
            "---  ------      --------------  ----- \n",
            " 0   Name        1015 non-null   object\n",
            " 1   Gender      972 non-null    object\n",
            " 2   Department  987 non-null    object\n",
            " 3   Salary      972 non-null    object\n",
            " 4   Loc         1015 non-null   object\n",
            " 5   Rating      1015 non-null   object\n",
            "dtypes: object(6)\n",
            "memory usage: 47.7+ KB\n"
          ]
        }
      ],
      "source": [
        "info.info()"
      ]
    },
    {
      "cell_type": "code",
      "execution_count": null,
      "metadata": {
        "colab": {
          "base_uri": "https://localhost:8080/"
        },
        "id": "QAgZmVivrfCy",
        "outputId": "a285a81d-d75e-41f4-a87c-e7949918eed1"
      },
      "outputs": [
        {
          "output_type": "execute_result",
          "data": {
            "text/plain": [
              "<bound method DataFrame.info of                     Name  Gender            Department     Salary  \\\n",
              "0           Ches Bonnell    Male                 Sales   $88,050    \n",
              "1       Garwin Peasegood  Female           Engineering   $68,220    \n",
              "2        Sidoney Yitzhok  Female                   NaN  $118,440    \n",
              "3       Saunders Blumson     NaN                 Legal   $56,370    \n",
              "4         Gardy Grigorey  Female               Support  $107,090    \n",
              "...                  ...     ...                   ...        ...   \n",
              "1010    Shaylyn Ransbury  Female               Support  $100,370    \n",
              "1011  Christoph Stretton  Female  Business Development   $90,240    \n",
              "1012      Jordain Cyster  Female           Engineering   $75,870    \n",
              "1013        Malory Biles  Female              Training   $58,740    \n",
              "1014           Adey Ryal  Female                 Legal   $32,500    \n",
              "\n",
              "              Loc     Rating  \n",
              "0        Bellevue  Very Good  \n",
              "1        Bellevue       Good  \n",
              "2      Wellington  Not Rated  \n",
              "3     Los Angeles  Very Good  \n",
              "4     Los Angeles       Poor  \n",
              "...           ...        ...  \n",
              "1010   Wellington    Average  \n",
              "1011   Wellington       Poor  \n",
              "1012  Los Angeles    Average  \n",
              "1013  Los Angeles  Not Rated  \n",
              "1014     Bellevue    Average  \n",
              "\n",
              "[1015 rows x 6 columns]>"
            ]
          },
          "metadata": {},
          "execution_count": 5
        }
      ],
      "source": [
        "info.info"
      ]
    },
    {
      "cell_type": "code",
      "execution_count": null,
      "metadata": {
        "colab": {
          "base_uri": "https://localhost:8080/"
        },
        "id": "bOOb3fV5rqlX",
        "outputId": "36a1bd06-8c46-4b41-8d5d-c5256d3eaed4"
      },
      "outputs": [
        {
          "output_type": "execute_result",
          "data": {
            "text/plain": [
              "0       <class 'str'>\n",
              "1       <class 'str'>\n",
              "2       <class 'str'>\n",
              "3       <class 'str'>\n",
              "4       <class 'str'>\n",
              "            ...      \n",
              "1010    <class 'str'>\n",
              "1011    <class 'str'>\n",
              "1012    <class 'str'>\n",
              "1013    <class 'str'>\n",
              "1014    <class 'str'>\n",
              "Name: Salary, Length: 1015, dtype: object"
            ]
          },
          "metadata": {},
          "execution_count": 6
        }
      ],
      "source": [
        "info['Salary'].apply(type)"
      ]
    },
    {
      "cell_type": "code",
      "execution_count": null,
      "metadata": {
        "colab": {
          "base_uri": "https://localhost:8080/"
        },
        "id": "inmHK2ABsTvp",
        "outputId": "8acf2491-3d30-40ec-db75-7e8762247954"
      },
      "outputs": [
        {
          "output_type": "execute_result",
          "data": {
            "text/plain": [
              "array([<class 'str'>, <class 'float'>], dtype=object)"
            ]
          },
          "metadata": {},
          "execution_count": 7
        }
      ],
      "source": [
        "info['Salary'].apply(type).unique()"
      ]
    },
    {
      "cell_type": "code",
      "execution_count": null,
      "metadata": {
        "colab": {
          "base_uri": "https://localhost:8080/"
        },
        "id": "sJndVxQtsekc",
        "outputId": "07be5892-7c67-4efd-98d6-871c8d73a573"
      },
      "outputs": [
        {
          "output_type": "execute_result",
          "data": {
            "text/plain": [
              "<class 'str'>      972\n",
              "<class 'float'>     43\n",
              "Name: Salary, dtype: int64"
            ]
          },
          "metadata": {},
          "execution_count": 8
        }
      ],
      "source": [
        "info['Salary'].apply(type).value_counts()"
      ]
    },
    {
      "cell_type": "code",
      "execution_count": null,
      "metadata": {
        "colab": {
          "base_uri": "https://localhost:8080/",
          "height": 478
        },
        "id": "1cqLckAlsmyT",
        "outputId": "d6c7e345-5004-4395-8c9d-8abf094339ff"
      },
      "outputs": [
        {
          "output_type": "stream",
          "name": "stderr",
          "text": [
            "<ipython-input-9-da74c5868f15>:2: FutureWarning: The default value of regex will change from True to False in a future version. In addition, single character regular expressions will *not* be treated as literal strings when regex=True.\n",
            "  info['Salary']=info['Salary'].str.replace('$','')\n"
          ]
        },
        {
          "output_type": "execute_result",
          "data": {
            "text/plain": [
              "                    Name  Gender            Department   Salary          Loc  \\\n",
              "0           Ches Bonnell    Male                 Sales   88050      Bellevue   \n",
              "1       Garwin Peasegood  Female           Engineering   68220      Bellevue   \n",
              "2        Sidoney Yitzhok  Female                   NaN  118440    Wellington   \n",
              "3       Saunders Blumson     NaN                 Legal   56370   Los Angeles   \n",
              "4         Gardy Grigorey  Female               Support  107090   Los Angeles   \n",
              "...                  ...     ...                   ...      ...          ...   \n",
              "1010    Shaylyn Ransbury  Female               Support  100370    Wellington   \n",
              "1011  Christoph Stretton  Female  Business Development   90240    Wellington   \n",
              "1012      Jordain Cyster  Female           Engineering   75870   Los Angeles   \n",
              "1013        Malory Biles  Female              Training   58740   Los Angeles   \n",
              "1014           Adey Ryal  Female                 Legal   32500      Bellevue   \n",
              "\n",
              "         Rating  \n",
              "0     Very Good  \n",
              "1          Good  \n",
              "2     Not Rated  \n",
              "3     Very Good  \n",
              "4          Poor  \n",
              "...         ...  \n",
              "1010    Average  \n",
              "1011       Poor  \n",
              "1012    Average  \n",
              "1013  Not Rated  \n",
              "1014    Average  \n",
              "\n",
              "[1015 rows x 6 columns]"
            ],
            "text/html": [
              "\n",
              "  <div id=\"df-c12a5514-63d5-4f63-810d-28824fca4293\">\n",
              "    <div class=\"colab-df-container\">\n",
              "      <div>\n",
              "<style scoped>\n",
              "    .dataframe tbody tr th:only-of-type {\n",
              "        vertical-align: middle;\n",
              "    }\n",
              "\n",
              "    .dataframe tbody tr th {\n",
              "        vertical-align: top;\n",
              "    }\n",
              "\n",
              "    .dataframe thead th {\n",
              "        text-align: right;\n",
              "    }\n",
              "</style>\n",
              "<table border=\"1\" class=\"dataframe\">\n",
              "  <thead>\n",
              "    <tr style=\"text-align: right;\">\n",
              "      <th></th>\n",
              "      <th>Name</th>\n",
              "      <th>Gender</th>\n",
              "      <th>Department</th>\n",
              "      <th>Salary</th>\n",
              "      <th>Loc</th>\n",
              "      <th>Rating</th>\n",
              "    </tr>\n",
              "  </thead>\n",
              "  <tbody>\n",
              "    <tr>\n",
              "      <th>0</th>\n",
              "      <td>Ches Bonnell</td>\n",
              "      <td>Male</td>\n",
              "      <td>Sales</td>\n",
              "      <td>88050</td>\n",
              "      <td>Bellevue</td>\n",
              "      <td>Very Good</td>\n",
              "    </tr>\n",
              "    <tr>\n",
              "      <th>1</th>\n",
              "      <td>Garwin Peasegood</td>\n",
              "      <td>Female</td>\n",
              "      <td>Engineering</td>\n",
              "      <td>68220</td>\n",
              "      <td>Bellevue</td>\n",
              "      <td>Good</td>\n",
              "    </tr>\n",
              "    <tr>\n",
              "      <th>2</th>\n",
              "      <td>Sidoney Yitzhok</td>\n",
              "      <td>Female</td>\n",
              "      <td>NaN</td>\n",
              "      <td>118440</td>\n",
              "      <td>Wellington</td>\n",
              "      <td>Not Rated</td>\n",
              "    </tr>\n",
              "    <tr>\n",
              "      <th>3</th>\n",
              "      <td>Saunders Blumson</td>\n",
              "      <td>NaN</td>\n",
              "      <td>Legal</td>\n",
              "      <td>56370</td>\n",
              "      <td>Los Angeles</td>\n",
              "      <td>Very Good</td>\n",
              "    </tr>\n",
              "    <tr>\n",
              "      <th>4</th>\n",
              "      <td>Gardy Grigorey</td>\n",
              "      <td>Female</td>\n",
              "      <td>Support</td>\n",
              "      <td>107090</td>\n",
              "      <td>Los Angeles</td>\n",
              "      <td>Poor</td>\n",
              "    </tr>\n",
              "    <tr>\n",
              "      <th>...</th>\n",
              "      <td>...</td>\n",
              "      <td>...</td>\n",
              "      <td>...</td>\n",
              "      <td>...</td>\n",
              "      <td>...</td>\n",
              "      <td>...</td>\n",
              "    </tr>\n",
              "    <tr>\n",
              "      <th>1010</th>\n",
              "      <td>Shaylyn Ransbury</td>\n",
              "      <td>Female</td>\n",
              "      <td>Support</td>\n",
              "      <td>100370</td>\n",
              "      <td>Wellington</td>\n",
              "      <td>Average</td>\n",
              "    </tr>\n",
              "    <tr>\n",
              "      <th>1011</th>\n",
              "      <td>Christoph Stretton</td>\n",
              "      <td>Female</td>\n",
              "      <td>Business Development</td>\n",
              "      <td>90240</td>\n",
              "      <td>Wellington</td>\n",
              "      <td>Poor</td>\n",
              "    </tr>\n",
              "    <tr>\n",
              "      <th>1012</th>\n",
              "      <td>Jordain Cyster</td>\n",
              "      <td>Female</td>\n",
              "      <td>Engineering</td>\n",
              "      <td>75870</td>\n",
              "      <td>Los Angeles</td>\n",
              "      <td>Average</td>\n",
              "    </tr>\n",
              "    <tr>\n",
              "      <th>1013</th>\n",
              "      <td>Malory Biles</td>\n",
              "      <td>Female</td>\n",
              "      <td>Training</td>\n",
              "      <td>58740</td>\n",
              "      <td>Los Angeles</td>\n",
              "      <td>Not Rated</td>\n",
              "    </tr>\n",
              "    <tr>\n",
              "      <th>1014</th>\n",
              "      <td>Adey Ryal</td>\n",
              "      <td>Female</td>\n",
              "      <td>Legal</td>\n",
              "      <td>32500</td>\n",
              "      <td>Bellevue</td>\n",
              "      <td>Average</td>\n",
              "    </tr>\n",
              "  </tbody>\n",
              "</table>\n",
              "<p>1015 rows × 6 columns</p>\n",
              "</div>\n",
              "      <button class=\"colab-df-convert\" onclick=\"convertToInteractive('df-c12a5514-63d5-4f63-810d-28824fca4293')\"\n",
              "              title=\"Convert this dataframe to an interactive table.\"\n",
              "              style=\"display:none;\">\n",
              "        \n",
              "  <svg xmlns=\"http://www.w3.org/2000/svg\" height=\"24px\"viewBox=\"0 0 24 24\"\n",
              "       width=\"24px\">\n",
              "    <path d=\"M0 0h24v24H0V0z\" fill=\"none\"/>\n",
              "    <path d=\"M18.56 5.44l.94 2.06.94-2.06 2.06-.94-2.06-.94-.94-2.06-.94 2.06-2.06.94zm-11 1L8.5 8.5l.94-2.06 2.06-.94-2.06-.94L8.5 2.5l-.94 2.06-2.06.94zm10 10l.94 2.06.94-2.06 2.06-.94-2.06-.94-.94-2.06-.94 2.06-2.06.94z\"/><path d=\"M17.41 7.96l-1.37-1.37c-.4-.4-.92-.59-1.43-.59-.52 0-1.04.2-1.43.59L10.3 9.45l-7.72 7.72c-.78.78-.78 2.05 0 2.83L4 21.41c.39.39.9.59 1.41.59.51 0 1.02-.2 1.41-.59l7.78-7.78 2.81-2.81c.8-.78.8-2.07 0-2.86zM5.41 20L4 18.59l7.72-7.72 1.47 1.35L5.41 20z\"/>\n",
              "  </svg>\n",
              "      </button>\n",
              "      \n",
              "  <style>\n",
              "    .colab-df-container {\n",
              "      display:flex;\n",
              "      flex-wrap:wrap;\n",
              "      gap: 12px;\n",
              "    }\n",
              "\n",
              "    .colab-df-convert {\n",
              "      background-color: #E8F0FE;\n",
              "      border: none;\n",
              "      border-radius: 50%;\n",
              "      cursor: pointer;\n",
              "      display: none;\n",
              "      fill: #1967D2;\n",
              "      height: 32px;\n",
              "      padding: 0 0 0 0;\n",
              "      width: 32px;\n",
              "    }\n",
              "\n",
              "    .colab-df-convert:hover {\n",
              "      background-color: #E2EBFA;\n",
              "      box-shadow: 0px 1px 2px rgba(60, 64, 67, 0.3), 0px 1px 3px 1px rgba(60, 64, 67, 0.15);\n",
              "      fill: #174EA6;\n",
              "    }\n",
              "\n",
              "    [theme=dark] .colab-df-convert {\n",
              "      background-color: #3B4455;\n",
              "      fill: #D2E3FC;\n",
              "    }\n",
              "\n",
              "    [theme=dark] .colab-df-convert:hover {\n",
              "      background-color: #434B5C;\n",
              "      box-shadow: 0px 1px 3px 1px rgba(0, 0, 0, 0.15);\n",
              "      filter: drop-shadow(0px 1px 2px rgba(0, 0, 0, 0.3));\n",
              "      fill: #FFFFFF;\n",
              "    }\n",
              "  </style>\n",
              "\n",
              "      <script>\n",
              "        const buttonEl =\n",
              "          document.querySelector('#df-c12a5514-63d5-4f63-810d-28824fca4293 button.colab-df-convert');\n",
              "        buttonEl.style.display =\n",
              "          google.colab.kernel.accessAllowed ? 'block' : 'none';\n",
              "\n",
              "        async function convertToInteractive(key) {\n",
              "          const element = document.querySelector('#df-c12a5514-63d5-4f63-810d-28824fca4293');\n",
              "          const dataTable =\n",
              "            await google.colab.kernel.invokeFunction('convertToInteractive',\n",
              "                                                     [key], {});\n",
              "          if (!dataTable) return;\n",
              "\n",
              "          const docLinkHtml = 'Like what you see? Visit the ' +\n",
              "            '<a target=\"_blank\" href=https://colab.research.google.com/notebooks/data_table.ipynb>data table notebook</a>'\n",
              "            + ' to learn more about interactive tables.';\n",
              "          element.innerHTML = '';\n",
              "          dataTable['output_type'] = 'display_data';\n",
              "          await google.colab.output.renderOutput(dataTable, element);\n",
              "          const docLink = document.createElement('div');\n",
              "          docLink.innerHTML = docLinkHtml;\n",
              "          element.appendChild(docLink);\n",
              "        }\n",
              "      </script>\n",
              "    </div>\n",
              "  </div>\n",
              "  "
            ]
          },
          "metadata": {},
          "execution_count": 9
        }
      ],
      "source": [
        "info['Salary']=info['Salary'].str.replace(',','')\n",
        "info['Salary']=info['Salary'].str.replace('$','')\n",
        "info"
      ]
    },
    {
      "cell_type": "code",
      "execution_count": null,
      "metadata": {
        "colab": {
          "base_uri": "https://localhost:8080/"
        },
        "id": "SdeJPdcOtZu6",
        "outputId": "207364eb-6b5c-4c1d-9f09-bf9bea6ddc63"
      },
      "outputs": [
        {
          "output_type": "execute_result",
          "data": {
            "text/plain": [
              "0       0\n",
              "1       0\n",
              "2       1\n",
              "3       1\n",
              "4       0\n",
              "       ..\n",
              "1010    0\n",
              "1011    0\n",
              "1012    0\n",
              "1013    0\n",
              "1014    0\n",
              "Length: 1015, dtype: int64"
            ]
          },
          "metadata": {},
          "execution_count": 10
        }
      ],
      "source": [
        "info.isna().sum(axis = 1)"
      ]
    },
    {
      "cell_type": "code",
      "execution_count": null,
      "metadata": {
        "colab": {
          "base_uri": "https://localhost:8080/"
        },
        "id": "0fd7wvBltyII",
        "outputId": "0ee1fc43-b8b8-405e-a1f4-3e36537efdff"
      },
      "outputs": [
        {
          "output_type": "execute_result",
          "data": {
            "text/plain": [
              "Name           0\n",
              "Gender        43\n",
              "Department    28\n",
              "Salary        43\n",
              "Loc            0\n",
              "Rating         0\n",
              "dtype: int64"
            ]
          },
          "metadata": {},
          "execution_count": 11
        }
      ],
      "source": [
        "info.isna().sum()"
      ]
    },
    {
      "cell_type": "code",
      "execution_count": null,
      "metadata": {
        "colab": {
          "base_uri": "https://localhost:8080/"
        },
        "id": "369JJE6Pt2MT",
        "outputId": "b03b05c4-7c25-43af-cb55-0f86d3bc5b57"
      },
      "outputs": [
        {
          "output_type": "execute_result",
          "data": {
            "text/plain": [
              "<bound method NDFrame._add_numeric_operations.<locals>.any of        Name  Gender  Department  Salary    Loc  Rating\n",
              "0     False   False       False   False  False   False\n",
              "1     False   False       False   False  False   False\n",
              "2     False   False        True   False  False   False\n",
              "3     False    True       False   False  False   False\n",
              "4     False   False       False   False  False   False\n",
              "...     ...     ...         ...     ...    ...     ...\n",
              "1010  False   False       False   False  False   False\n",
              "1011  False   False       False   False  False   False\n",
              "1012  False   False       False   False  False   False\n",
              "1013  False   False       False   False  False   False\n",
              "1014  False   False       False   False  False   False\n",
              "\n",
              "[1015 rows x 6 columns]>"
            ]
          },
          "metadata": {},
          "execution_count": 12
        }
      ],
      "source": [
        "info.isna().any"
      ]
    },
    {
      "cell_type": "code",
      "execution_count": null,
      "metadata": {
        "colab": {
          "base_uri": "https://localhost:8080/"
        },
        "id": "943evx4OuAKt",
        "outputId": "ad847c44-cd41-4a0b-cd1a-047d00434e04"
      },
      "outputs": [
        {
          "output_type": "execute_result",
          "data": {
            "text/plain": [
              "Name          False\n",
              "Gender         True\n",
              "Department     True\n",
              "Salary         True\n",
              "Loc           False\n",
              "Rating        False\n",
              "dtype: bool"
            ]
          },
          "metadata": {},
          "execution_count": 13
        }
      ],
      "source": [
        "info.isna().any()"
      ]
    },
    {
      "cell_type": "code",
      "execution_count": null,
      "metadata": {
        "colab": {
          "base_uri": "https://localhost:8080/",
          "height": 112
        },
        "id": "UQb-odG-ufsl",
        "outputId": "a4b65854-c2be-4441-8007-e4378382fad0"
      },
      "outputs": [
        {
          "output_type": "execute_result",
          "data": {
            "text/plain": [
              "                 Name  Gender Department Salary       Loc   Rating\n",
              "343     Dewey Berthod  Female        NaN    NaN  Bellevue  Average\n",
              "470  Aloise MacCathay    Male        NaN    NaN  Bellevue  Average"
            ],
            "text/html": [
              "\n",
              "  <div id=\"df-58b28af6-3a98-4a82-89dc-48cb7596a306\">\n",
              "    <div class=\"colab-df-container\">\n",
              "      <div>\n",
              "<style scoped>\n",
              "    .dataframe tbody tr th:only-of-type {\n",
              "        vertical-align: middle;\n",
              "    }\n",
              "\n",
              "    .dataframe tbody tr th {\n",
              "        vertical-align: top;\n",
              "    }\n",
              "\n",
              "    .dataframe thead th {\n",
              "        text-align: right;\n",
              "    }\n",
              "</style>\n",
              "<table border=\"1\" class=\"dataframe\">\n",
              "  <thead>\n",
              "    <tr style=\"text-align: right;\">\n",
              "      <th></th>\n",
              "      <th>Name</th>\n",
              "      <th>Gender</th>\n",
              "      <th>Department</th>\n",
              "      <th>Salary</th>\n",
              "      <th>Loc</th>\n",
              "      <th>Rating</th>\n",
              "    </tr>\n",
              "  </thead>\n",
              "  <tbody>\n",
              "    <tr>\n",
              "      <th>343</th>\n",
              "      <td>Dewey Berthod</td>\n",
              "      <td>Female</td>\n",
              "      <td>NaN</td>\n",
              "      <td>NaN</td>\n",
              "      <td>Bellevue</td>\n",
              "      <td>Average</td>\n",
              "    </tr>\n",
              "    <tr>\n",
              "      <th>470</th>\n",
              "      <td>Aloise MacCathay</td>\n",
              "      <td>Male</td>\n",
              "      <td>NaN</td>\n",
              "      <td>NaN</td>\n",
              "      <td>Bellevue</td>\n",
              "      <td>Average</td>\n",
              "    </tr>\n",
              "  </tbody>\n",
              "</table>\n",
              "</div>\n",
              "      <button class=\"colab-df-convert\" onclick=\"convertToInteractive('df-58b28af6-3a98-4a82-89dc-48cb7596a306')\"\n",
              "              title=\"Convert this dataframe to an interactive table.\"\n",
              "              style=\"display:none;\">\n",
              "        \n",
              "  <svg xmlns=\"http://www.w3.org/2000/svg\" height=\"24px\"viewBox=\"0 0 24 24\"\n",
              "       width=\"24px\">\n",
              "    <path d=\"M0 0h24v24H0V0z\" fill=\"none\"/>\n",
              "    <path d=\"M18.56 5.44l.94 2.06.94-2.06 2.06-.94-2.06-.94-.94-2.06-.94 2.06-2.06.94zm-11 1L8.5 8.5l.94-2.06 2.06-.94-2.06-.94L8.5 2.5l-.94 2.06-2.06.94zm10 10l.94 2.06.94-2.06 2.06-.94-2.06-.94-.94-2.06-.94 2.06-2.06.94z\"/><path d=\"M17.41 7.96l-1.37-1.37c-.4-.4-.92-.59-1.43-.59-.52 0-1.04.2-1.43.59L10.3 9.45l-7.72 7.72c-.78.78-.78 2.05 0 2.83L4 21.41c.39.39.9.59 1.41.59.51 0 1.02-.2 1.41-.59l7.78-7.78 2.81-2.81c.8-.78.8-2.07 0-2.86zM5.41 20L4 18.59l7.72-7.72 1.47 1.35L5.41 20z\"/>\n",
              "  </svg>\n",
              "      </button>\n",
              "      \n",
              "  <style>\n",
              "    .colab-df-container {\n",
              "      display:flex;\n",
              "      flex-wrap:wrap;\n",
              "      gap: 12px;\n",
              "    }\n",
              "\n",
              "    .colab-df-convert {\n",
              "      background-color: #E8F0FE;\n",
              "      border: none;\n",
              "      border-radius: 50%;\n",
              "      cursor: pointer;\n",
              "      display: none;\n",
              "      fill: #1967D2;\n",
              "      height: 32px;\n",
              "      padding: 0 0 0 0;\n",
              "      width: 32px;\n",
              "    }\n",
              "\n",
              "    .colab-df-convert:hover {\n",
              "      background-color: #E2EBFA;\n",
              "      box-shadow: 0px 1px 2px rgba(60, 64, 67, 0.3), 0px 1px 3px 1px rgba(60, 64, 67, 0.15);\n",
              "      fill: #174EA6;\n",
              "    }\n",
              "\n",
              "    [theme=dark] .colab-df-convert {\n",
              "      background-color: #3B4455;\n",
              "      fill: #D2E3FC;\n",
              "    }\n",
              "\n",
              "    [theme=dark] .colab-df-convert:hover {\n",
              "      background-color: #434B5C;\n",
              "      box-shadow: 0px 1px 3px 1px rgba(0, 0, 0, 0.15);\n",
              "      filter: drop-shadow(0px 1px 2px rgba(0, 0, 0, 0.3));\n",
              "      fill: #FFFFFF;\n",
              "    }\n",
              "  </style>\n",
              "\n",
              "      <script>\n",
              "        const buttonEl =\n",
              "          document.querySelector('#df-58b28af6-3a98-4a82-89dc-48cb7596a306 button.colab-df-convert');\n",
              "        buttonEl.style.display =\n",
              "          google.colab.kernel.accessAllowed ? 'block' : 'none';\n",
              "\n",
              "        async function convertToInteractive(key) {\n",
              "          const element = document.querySelector('#df-58b28af6-3a98-4a82-89dc-48cb7596a306');\n",
              "          const dataTable =\n",
              "            await google.colab.kernel.invokeFunction('convertToInteractive',\n",
              "                                                     [key], {});\n",
              "          if (!dataTable) return;\n",
              "\n",
              "          const docLinkHtml = 'Like what you see? Visit the ' +\n",
              "            '<a target=\"_blank\" href=https://colab.research.google.com/notebooks/data_table.ipynb>data table notebook</a>'\n",
              "            + ' to learn more about interactive tables.';\n",
              "          element.innerHTML = '';\n",
              "          dataTable['output_type'] = 'display_data';\n",
              "          await google.colab.output.renderOutput(dataTable, element);\n",
              "          const docLink = document.createElement('div');\n",
              "          docLink.innerHTML = docLinkHtml;\n",
              "          element.appendChild(docLink);\n",
              "        }\n",
              "      </script>\n",
              "    </div>\n",
              "  </div>\n",
              "  "
            ]
          },
          "metadata": {},
          "execution_count": 14
        }
      ],
      "source": [
        "info[(info['Salary'].isna())&(info['Department'].isna())]"
      ]
    },
    {
      "cell_type": "code",
      "execution_count": null,
      "metadata": {
        "colab": {
          "base_uri": "https://localhost:8080/",
          "height": 49
        },
        "id": "v7BV-OG3vGwt",
        "outputId": "9c4bb4b7-bf5b-49ff-95d8-7b690f2dc6c4"
      },
      "outputs": [
        {
          "output_type": "execute_result",
          "data": {
            "text/plain": [
              "Empty DataFrame\n",
              "Columns: [Name, Gender, Department, Salary, Loc, Rating]\n",
              "Index: []"
            ],
            "text/html": [
              "\n",
              "  <div id=\"df-888f0c14-5b8a-4df1-bccd-f66d6ccd0a46\">\n",
              "    <div class=\"colab-df-container\">\n",
              "      <div>\n",
              "<style scoped>\n",
              "    .dataframe tbody tr th:only-of-type {\n",
              "        vertical-align: middle;\n",
              "    }\n",
              "\n",
              "    .dataframe tbody tr th {\n",
              "        vertical-align: top;\n",
              "    }\n",
              "\n",
              "    .dataframe thead th {\n",
              "        text-align: right;\n",
              "    }\n",
              "</style>\n",
              "<table border=\"1\" class=\"dataframe\">\n",
              "  <thead>\n",
              "    <tr style=\"text-align: right;\">\n",
              "      <th></th>\n",
              "      <th>Name</th>\n",
              "      <th>Gender</th>\n",
              "      <th>Department</th>\n",
              "      <th>Salary</th>\n",
              "      <th>Loc</th>\n",
              "      <th>Rating</th>\n",
              "    </tr>\n",
              "  </thead>\n",
              "  <tbody>\n",
              "  </tbody>\n",
              "</table>\n",
              "</div>\n",
              "      <button class=\"colab-df-convert\" onclick=\"convertToInteractive('df-888f0c14-5b8a-4df1-bccd-f66d6ccd0a46')\"\n",
              "              title=\"Convert this dataframe to an interactive table.\"\n",
              "              style=\"display:none;\">\n",
              "        \n",
              "  <svg xmlns=\"http://www.w3.org/2000/svg\" height=\"24px\"viewBox=\"0 0 24 24\"\n",
              "       width=\"24px\">\n",
              "    <path d=\"M0 0h24v24H0V0z\" fill=\"none\"/>\n",
              "    <path d=\"M18.56 5.44l.94 2.06.94-2.06 2.06-.94-2.06-.94-.94-2.06-.94 2.06-2.06.94zm-11 1L8.5 8.5l.94-2.06 2.06-.94-2.06-.94L8.5 2.5l-.94 2.06-2.06.94zm10 10l.94 2.06.94-2.06 2.06-.94-2.06-.94-.94-2.06-.94 2.06-2.06.94z\"/><path d=\"M17.41 7.96l-1.37-1.37c-.4-.4-.92-.59-1.43-.59-.52 0-1.04.2-1.43.59L10.3 9.45l-7.72 7.72c-.78.78-.78 2.05 0 2.83L4 21.41c.39.39.9.59 1.41.59.51 0 1.02-.2 1.41-.59l7.78-7.78 2.81-2.81c.8-.78.8-2.07 0-2.86zM5.41 20L4 18.59l7.72-7.72 1.47 1.35L5.41 20z\"/>\n",
              "  </svg>\n",
              "      </button>\n",
              "      \n",
              "  <style>\n",
              "    .colab-df-container {\n",
              "      display:flex;\n",
              "      flex-wrap:wrap;\n",
              "      gap: 12px;\n",
              "    }\n",
              "\n",
              "    .colab-df-convert {\n",
              "      background-color: #E8F0FE;\n",
              "      border: none;\n",
              "      border-radius: 50%;\n",
              "      cursor: pointer;\n",
              "      display: none;\n",
              "      fill: #1967D2;\n",
              "      height: 32px;\n",
              "      padding: 0 0 0 0;\n",
              "      width: 32px;\n",
              "    }\n",
              "\n",
              "    .colab-df-convert:hover {\n",
              "      background-color: #E2EBFA;\n",
              "      box-shadow: 0px 1px 2px rgba(60, 64, 67, 0.3), 0px 1px 3px 1px rgba(60, 64, 67, 0.15);\n",
              "      fill: #174EA6;\n",
              "    }\n",
              "\n",
              "    [theme=dark] .colab-df-convert {\n",
              "      background-color: #3B4455;\n",
              "      fill: #D2E3FC;\n",
              "    }\n",
              "\n",
              "    [theme=dark] .colab-df-convert:hover {\n",
              "      background-color: #434B5C;\n",
              "      box-shadow: 0px 1px 3px 1px rgba(0, 0, 0, 0.15);\n",
              "      filter: drop-shadow(0px 1px 2px rgba(0, 0, 0, 0.3));\n",
              "      fill: #FFFFFF;\n",
              "    }\n",
              "  </style>\n",
              "\n",
              "      <script>\n",
              "        const buttonEl =\n",
              "          document.querySelector('#df-888f0c14-5b8a-4df1-bccd-f66d6ccd0a46 button.colab-df-convert');\n",
              "        buttonEl.style.display =\n",
              "          google.colab.kernel.accessAllowed ? 'block' : 'none';\n",
              "\n",
              "        async function convertToInteractive(key) {\n",
              "          const element = document.querySelector('#df-888f0c14-5b8a-4df1-bccd-f66d6ccd0a46');\n",
              "          const dataTable =\n",
              "            await google.colab.kernel.invokeFunction('convertToInteractive',\n",
              "                                                     [key], {});\n",
              "          if (!dataTable) return;\n",
              "\n",
              "          const docLinkHtml = 'Like what you see? Visit the ' +\n",
              "            '<a target=\"_blank\" href=https://colab.research.google.com/notebooks/data_table.ipynb>data table notebook</a>'\n",
              "            + ' to learn more about interactive tables.';\n",
              "          element.innerHTML = '';\n",
              "          dataTable['output_type'] = 'display_data';\n",
              "          await google.colab.output.renderOutput(dataTable, element);\n",
              "          const docLink = document.createElement('div');\n",
              "          docLink.innerHTML = docLinkHtml;\n",
              "          element.appendChild(docLink);\n",
              "        }\n",
              "      </script>\n",
              "    </div>\n",
              "  </div>\n",
              "  "
            ]
          },
          "metadata": {},
          "execution_count": 15
        }
      ],
      "source": [
        "info[(info['Salary'].isna())&(info['Department'].isna())&(info['Loc'].isna())]"
      ]
    },
    {
      "cell_type": "code",
      "execution_count": null,
      "metadata": {
        "id": "tTUrCxe7vQ1E"
      },
      "outputs": [],
      "source": [
        "info.dropna(subset=['Salary','Department'],inplace=True)"
      ]
    },
    {
      "cell_type": "code",
      "execution_count": null,
      "metadata": {
        "colab": {
          "base_uri": "https://localhost:8080/"
        },
        "id": "96GdjWANBHQK",
        "outputId": "4eb3c386-466c-4b4d-f38d-cdbc2a465558"
      },
      "outputs": [
        {
          "output_type": "execute_result",
          "data": {
            "text/plain": [
              "<bound method DataFrame.info of                     Name  Gender            Department   Salary          Loc  \\\n",
              "0           Ches Bonnell    Male                 Sales   88050      Bellevue   \n",
              "1       Garwin Peasegood  Female           Engineering   68220      Bellevue   \n",
              "3       Saunders Blumson     NaN                 Legal   56370   Los Angeles   \n",
              "4         Gardy Grigorey  Female               Support  107090   Los Angeles   \n",
              "5        Marlie Charsley    Male               Support  108450    Wellington   \n",
              "...                  ...     ...                   ...      ...          ...   \n",
              "1010    Shaylyn Ransbury  Female               Support  100370    Wellington   \n",
              "1011  Christoph Stretton  Female  Business Development   90240    Wellington   \n",
              "1012      Jordain Cyster  Female           Engineering   75870   Los Angeles   \n",
              "1013        Malory Biles  Female              Training   58740   Los Angeles   \n",
              "1014           Adey Ryal  Female                 Legal   32500      Bellevue   \n",
              "\n",
              "         Rating  \n",
              "0     Very Good  \n",
              "1          Good  \n",
              "3     Very Good  \n",
              "4          Poor  \n",
              "5          Poor  \n",
              "...         ...  \n",
              "1010    Average  \n",
              "1011       Poor  \n",
              "1012    Average  \n",
              "1013  Not Rated  \n",
              "1014    Average  \n",
              "\n",
              "[946 rows x 6 columns]>"
            ]
          },
          "metadata": {},
          "execution_count": 17
        }
      ],
      "source": [
        "info.info"
      ]
    },
    {
      "cell_type": "code",
      "execution_count": null,
      "metadata": {
        "colab": {
          "base_uri": "https://localhost:8080/"
        },
        "id": "xORCdM9zBQ59",
        "outputId": "ed2a6fcc-1989-4b4c-d78e-fd5f89d9b2e0"
      },
      "outputs": [
        {
          "output_type": "stream",
          "name": "stdout",
          "text": [
            "<class 'pandas.core.frame.DataFrame'>\n",
            "Int64Index: 946 entries, 0 to 1014\n",
            "Data columns (total 6 columns):\n",
            " #   Column      Non-Null Count  Dtype \n",
            "---  ------      --------------  ----- \n",
            " 0   Name        946 non-null    object\n",
            " 1   Gender      906 non-null    object\n",
            " 2   Department  946 non-null    object\n",
            " 3   Salary      946 non-null    object\n",
            " 4   Loc         946 non-null    object\n",
            " 5   Rating      946 non-null    object\n",
            "dtypes: object(6)\n",
            "memory usage: 51.7+ KB\n"
          ]
        }
      ],
      "source": [
        "info.info()"
      ]
    },
    {
      "cell_type": "code",
      "execution_count": null,
      "metadata": {
        "id": "c02dfee3BaM8"
      },
      "outputs": [],
      "source": [
        "info['Gender']=info['Gender'].fillna('Not revealed')"
      ]
    },
    {
      "cell_type": "code",
      "execution_count": null,
      "metadata": {
        "colab": {
          "base_uri": "https://localhost:8080/",
          "height": 424
        },
        "id": "261Nlg8-B4Aq",
        "outputId": "d5798e05-2aa9-44a9-b8df-794b470479b3"
      },
      "outputs": [
        {
          "output_type": "execute_result",
          "data": {
            "text/plain": [
              "                    Name        Gender            Department   Salary  \\\n",
              "0           Ches Bonnell          Male                 Sales   88050    \n",
              "1       Garwin Peasegood        Female           Engineering   68220    \n",
              "3       Saunders Blumson  Not revealed                 Legal   56370    \n",
              "4         Gardy Grigorey        Female               Support  107090    \n",
              "5        Marlie Charsley          Male               Support  108450    \n",
              "...                  ...           ...                   ...      ...   \n",
              "1010    Shaylyn Ransbury        Female               Support  100370    \n",
              "1011  Christoph Stretton        Female  Business Development   90240    \n",
              "1012      Jordain Cyster        Female           Engineering   75870    \n",
              "1013        Malory Biles        Female              Training   58740    \n",
              "1014           Adey Ryal        Female                 Legal   32500    \n",
              "\n",
              "              Loc     Rating  \n",
              "0        Bellevue  Very Good  \n",
              "1        Bellevue       Good  \n",
              "3     Los Angeles  Very Good  \n",
              "4     Los Angeles       Poor  \n",
              "5      Wellington       Poor  \n",
              "...           ...        ...  \n",
              "1010   Wellington    Average  \n",
              "1011   Wellington       Poor  \n",
              "1012  Los Angeles    Average  \n",
              "1013  Los Angeles  Not Rated  \n",
              "1014     Bellevue    Average  \n",
              "\n",
              "[946 rows x 6 columns]"
            ],
            "text/html": [
              "\n",
              "  <div id=\"df-99f30580-8feb-4072-bce4-b03388140a61\">\n",
              "    <div class=\"colab-df-container\">\n",
              "      <div>\n",
              "<style scoped>\n",
              "    .dataframe tbody tr th:only-of-type {\n",
              "        vertical-align: middle;\n",
              "    }\n",
              "\n",
              "    .dataframe tbody tr th {\n",
              "        vertical-align: top;\n",
              "    }\n",
              "\n",
              "    .dataframe thead th {\n",
              "        text-align: right;\n",
              "    }\n",
              "</style>\n",
              "<table border=\"1\" class=\"dataframe\">\n",
              "  <thead>\n",
              "    <tr style=\"text-align: right;\">\n",
              "      <th></th>\n",
              "      <th>Name</th>\n",
              "      <th>Gender</th>\n",
              "      <th>Department</th>\n",
              "      <th>Salary</th>\n",
              "      <th>Loc</th>\n",
              "      <th>Rating</th>\n",
              "    </tr>\n",
              "  </thead>\n",
              "  <tbody>\n",
              "    <tr>\n",
              "      <th>0</th>\n",
              "      <td>Ches Bonnell</td>\n",
              "      <td>Male</td>\n",
              "      <td>Sales</td>\n",
              "      <td>88050</td>\n",
              "      <td>Bellevue</td>\n",
              "      <td>Very Good</td>\n",
              "    </tr>\n",
              "    <tr>\n",
              "      <th>1</th>\n",
              "      <td>Garwin Peasegood</td>\n",
              "      <td>Female</td>\n",
              "      <td>Engineering</td>\n",
              "      <td>68220</td>\n",
              "      <td>Bellevue</td>\n",
              "      <td>Good</td>\n",
              "    </tr>\n",
              "    <tr>\n",
              "      <th>3</th>\n",
              "      <td>Saunders Blumson</td>\n",
              "      <td>Not revealed</td>\n",
              "      <td>Legal</td>\n",
              "      <td>56370</td>\n",
              "      <td>Los Angeles</td>\n",
              "      <td>Very Good</td>\n",
              "    </tr>\n",
              "    <tr>\n",
              "      <th>4</th>\n",
              "      <td>Gardy Grigorey</td>\n",
              "      <td>Female</td>\n",
              "      <td>Support</td>\n",
              "      <td>107090</td>\n",
              "      <td>Los Angeles</td>\n",
              "      <td>Poor</td>\n",
              "    </tr>\n",
              "    <tr>\n",
              "      <th>5</th>\n",
              "      <td>Marlie Charsley</td>\n",
              "      <td>Male</td>\n",
              "      <td>Support</td>\n",
              "      <td>108450</td>\n",
              "      <td>Wellington</td>\n",
              "      <td>Poor</td>\n",
              "    </tr>\n",
              "    <tr>\n",
              "      <th>...</th>\n",
              "      <td>...</td>\n",
              "      <td>...</td>\n",
              "      <td>...</td>\n",
              "      <td>...</td>\n",
              "      <td>...</td>\n",
              "      <td>...</td>\n",
              "    </tr>\n",
              "    <tr>\n",
              "      <th>1010</th>\n",
              "      <td>Shaylyn Ransbury</td>\n",
              "      <td>Female</td>\n",
              "      <td>Support</td>\n",
              "      <td>100370</td>\n",
              "      <td>Wellington</td>\n",
              "      <td>Average</td>\n",
              "    </tr>\n",
              "    <tr>\n",
              "      <th>1011</th>\n",
              "      <td>Christoph Stretton</td>\n",
              "      <td>Female</td>\n",
              "      <td>Business Development</td>\n",
              "      <td>90240</td>\n",
              "      <td>Wellington</td>\n",
              "      <td>Poor</td>\n",
              "    </tr>\n",
              "    <tr>\n",
              "      <th>1012</th>\n",
              "      <td>Jordain Cyster</td>\n",
              "      <td>Female</td>\n",
              "      <td>Engineering</td>\n",
              "      <td>75870</td>\n",
              "      <td>Los Angeles</td>\n",
              "      <td>Average</td>\n",
              "    </tr>\n",
              "    <tr>\n",
              "      <th>1013</th>\n",
              "      <td>Malory Biles</td>\n",
              "      <td>Female</td>\n",
              "      <td>Training</td>\n",
              "      <td>58740</td>\n",
              "      <td>Los Angeles</td>\n",
              "      <td>Not Rated</td>\n",
              "    </tr>\n",
              "    <tr>\n",
              "      <th>1014</th>\n",
              "      <td>Adey Ryal</td>\n",
              "      <td>Female</td>\n",
              "      <td>Legal</td>\n",
              "      <td>32500</td>\n",
              "      <td>Bellevue</td>\n",
              "      <td>Average</td>\n",
              "    </tr>\n",
              "  </tbody>\n",
              "</table>\n",
              "<p>946 rows × 6 columns</p>\n",
              "</div>\n",
              "      <button class=\"colab-df-convert\" onclick=\"convertToInteractive('df-99f30580-8feb-4072-bce4-b03388140a61')\"\n",
              "              title=\"Convert this dataframe to an interactive table.\"\n",
              "              style=\"display:none;\">\n",
              "        \n",
              "  <svg xmlns=\"http://www.w3.org/2000/svg\" height=\"24px\"viewBox=\"0 0 24 24\"\n",
              "       width=\"24px\">\n",
              "    <path d=\"M0 0h24v24H0V0z\" fill=\"none\"/>\n",
              "    <path d=\"M18.56 5.44l.94 2.06.94-2.06 2.06-.94-2.06-.94-.94-2.06-.94 2.06-2.06.94zm-11 1L8.5 8.5l.94-2.06 2.06-.94-2.06-.94L8.5 2.5l-.94 2.06-2.06.94zm10 10l.94 2.06.94-2.06 2.06-.94-2.06-.94-.94-2.06-.94 2.06-2.06.94z\"/><path d=\"M17.41 7.96l-1.37-1.37c-.4-.4-.92-.59-1.43-.59-.52 0-1.04.2-1.43.59L10.3 9.45l-7.72 7.72c-.78.78-.78 2.05 0 2.83L4 21.41c.39.39.9.59 1.41.59.51 0 1.02-.2 1.41-.59l7.78-7.78 2.81-2.81c.8-.78.8-2.07 0-2.86zM5.41 20L4 18.59l7.72-7.72 1.47 1.35L5.41 20z\"/>\n",
              "  </svg>\n",
              "      </button>\n",
              "      \n",
              "  <style>\n",
              "    .colab-df-container {\n",
              "      display:flex;\n",
              "      flex-wrap:wrap;\n",
              "      gap: 12px;\n",
              "    }\n",
              "\n",
              "    .colab-df-convert {\n",
              "      background-color: #E8F0FE;\n",
              "      border: none;\n",
              "      border-radius: 50%;\n",
              "      cursor: pointer;\n",
              "      display: none;\n",
              "      fill: #1967D2;\n",
              "      height: 32px;\n",
              "      padding: 0 0 0 0;\n",
              "      width: 32px;\n",
              "    }\n",
              "\n",
              "    .colab-df-convert:hover {\n",
              "      background-color: #E2EBFA;\n",
              "      box-shadow: 0px 1px 2px rgba(60, 64, 67, 0.3), 0px 1px 3px 1px rgba(60, 64, 67, 0.15);\n",
              "      fill: #174EA6;\n",
              "    }\n",
              "\n",
              "    [theme=dark] .colab-df-convert {\n",
              "      background-color: #3B4455;\n",
              "      fill: #D2E3FC;\n",
              "    }\n",
              "\n",
              "    [theme=dark] .colab-df-convert:hover {\n",
              "      background-color: #434B5C;\n",
              "      box-shadow: 0px 1px 3px 1px rgba(0, 0, 0, 0.15);\n",
              "      filter: drop-shadow(0px 1px 2px rgba(0, 0, 0, 0.3));\n",
              "      fill: #FFFFFF;\n",
              "    }\n",
              "  </style>\n",
              "\n",
              "      <script>\n",
              "        const buttonEl =\n",
              "          document.querySelector('#df-99f30580-8feb-4072-bce4-b03388140a61 button.colab-df-convert');\n",
              "        buttonEl.style.display =\n",
              "          google.colab.kernel.accessAllowed ? 'block' : 'none';\n",
              "\n",
              "        async function convertToInteractive(key) {\n",
              "          const element = document.querySelector('#df-99f30580-8feb-4072-bce4-b03388140a61');\n",
              "          const dataTable =\n",
              "            await google.colab.kernel.invokeFunction('convertToInteractive',\n",
              "                                                     [key], {});\n",
              "          if (!dataTable) return;\n",
              "\n",
              "          const docLinkHtml = 'Like what you see? Visit the ' +\n",
              "            '<a target=\"_blank\" href=https://colab.research.google.com/notebooks/data_table.ipynb>data table notebook</a>'\n",
              "            + ' to learn more about interactive tables.';\n",
              "          element.innerHTML = '';\n",
              "          dataTable['output_type'] = 'display_data';\n",
              "          await google.colab.output.renderOutput(dataTable, element);\n",
              "          const docLink = document.createElement('div');\n",
              "          docLink.innerHTML = docLinkHtml;\n",
              "          element.appendChild(docLink);\n",
              "        }\n",
              "      </script>\n",
              "    </div>\n",
              "  </div>\n",
              "  "
            ]
          },
          "metadata": {},
          "execution_count": 20
        }
      ],
      "source": [
        "info"
      ]
    },
    {
      "cell_type": "code",
      "execution_count": null,
      "metadata": {
        "colab": {
          "base_uri": "https://localhost:8080/"
        },
        "id": "Qnl-R3j9B6qp",
        "outputId": "384b5154-6573-4e61-e48e-1c06dd840406"
      },
      "outputs": [
        {
          "output_type": "execute_result",
          "data": {
            "text/plain": [
              "<bound method NDFrame.describe of                     Name        Gender            Department   Salary  \\\n",
              "0           Ches Bonnell          Male                 Sales   88050    \n",
              "1       Garwin Peasegood        Female           Engineering   68220    \n",
              "3       Saunders Blumson  Not revealed                 Legal   56370    \n",
              "4         Gardy Grigorey        Female               Support  107090    \n",
              "5        Marlie Charsley          Male               Support  108450    \n",
              "...                  ...           ...                   ...      ...   \n",
              "1010    Shaylyn Ransbury        Female               Support  100370    \n",
              "1011  Christoph Stretton        Female  Business Development   90240    \n",
              "1012      Jordain Cyster        Female           Engineering   75870    \n",
              "1013        Malory Biles        Female              Training   58740    \n",
              "1014           Adey Ryal        Female                 Legal   32500    \n",
              "\n",
              "              Loc     Rating  \n",
              "0        Bellevue  Very Good  \n",
              "1        Bellevue       Good  \n",
              "3     Los Angeles  Very Good  \n",
              "4     Los Angeles       Poor  \n",
              "5      Wellington       Poor  \n",
              "...           ...        ...  \n",
              "1010   Wellington    Average  \n",
              "1011   Wellington       Poor  \n",
              "1012  Los Angeles    Average  \n",
              "1013  Los Angeles  Not Rated  \n",
              "1014     Bellevue    Average  \n",
              "\n",
              "[946 rows x 6 columns]>"
            ]
          },
          "metadata": {},
          "execution_count": 21
        }
      ],
      "source": [
        "info.describe"
      ]
    },
    {
      "cell_type": "code",
      "execution_count": null,
      "metadata": {
        "colab": {
          "base_uri": "https://localhost:8080/",
          "height": 175
        },
        "id": "ovpZAIBCB_yo",
        "outputId": "58eff63d-fe05-464a-ceeb-88949015d8a5"
      },
      "outputs": [
        {
          "output_type": "execute_result",
          "data": {
            "text/plain": [
              "                 Name Gender          Department  Salary          Loc   Rating\n",
              "count             946    946                 946     946          946      946\n",
              "unique            874      3                  12     833            3        6\n",
              "top     Gilles Jaquet   Male  Product Management  72500   Los Angeles  Average\n",
              "freq                2    465                  89       4          361      420"
            ],
            "text/html": [
              "\n",
              "  <div id=\"df-ba48b4c8-35ad-4918-a8f4-863b22bd4fd6\">\n",
              "    <div class=\"colab-df-container\">\n",
              "      <div>\n",
              "<style scoped>\n",
              "    .dataframe tbody tr th:only-of-type {\n",
              "        vertical-align: middle;\n",
              "    }\n",
              "\n",
              "    .dataframe tbody tr th {\n",
              "        vertical-align: top;\n",
              "    }\n",
              "\n",
              "    .dataframe thead th {\n",
              "        text-align: right;\n",
              "    }\n",
              "</style>\n",
              "<table border=\"1\" class=\"dataframe\">\n",
              "  <thead>\n",
              "    <tr style=\"text-align: right;\">\n",
              "      <th></th>\n",
              "      <th>Name</th>\n",
              "      <th>Gender</th>\n",
              "      <th>Department</th>\n",
              "      <th>Salary</th>\n",
              "      <th>Loc</th>\n",
              "      <th>Rating</th>\n",
              "    </tr>\n",
              "  </thead>\n",
              "  <tbody>\n",
              "    <tr>\n",
              "      <th>count</th>\n",
              "      <td>946</td>\n",
              "      <td>946</td>\n",
              "      <td>946</td>\n",
              "      <td>946</td>\n",
              "      <td>946</td>\n",
              "      <td>946</td>\n",
              "    </tr>\n",
              "    <tr>\n",
              "      <th>unique</th>\n",
              "      <td>874</td>\n",
              "      <td>3</td>\n",
              "      <td>12</td>\n",
              "      <td>833</td>\n",
              "      <td>3</td>\n",
              "      <td>6</td>\n",
              "    </tr>\n",
              "    <tr>\n",
              "      <th>top</th>\n",
              "      <td>Gilles Jaquet</td>\n",
              "      <td>Male</td>\n",
              "      <td>Product Management</td>\n",
              "      <td>72500</td>\n",
              "      <td>Los Angeles</td>\n",
              "      <td>Average</td>\n",
              "    </tr>\n",
              "    <tr>\n",
              "      <th>freq</th>\n",
              "      <td>2</td>\n",
              "      <td>465</td>\n",
              "      <td>89</td>\n",
              "      <td>4</td>\n",
              "      <td>361</td>\n",
              "      <td>420</td>\n",
              "    </tr>\n",
              "  </tbody>\n",
              "</table>\n",
              "</div>\n",
              "      <button class=\"colab-df-convert\" onclick=\"convertToInteractive('df-ba48b4c8-35ad-4918-a8f4-863b22bd4fd6')\"\n",
              "              title=\"Convert this dataframe to an interactive table.\"\n",
              "              style=\"display:none;\">\n",
              "        \n",
              "  <svg xmlns=\"http://www.w3.org/2000/svg\" height=\"24px\"viewBox=\"0 0 24 24\"\n",
              "       width=\"24px\">\n",
              "    <path d=\"M0 0h24v24H0V0z\" fill=\"none\"/>\n",
              "    <path d=\"M18.56 5.44l.94 2.06.94-2.06 2.06-.94-2.06-.94-.94-2.06-.94 2.06-2.06.94zm-11 1L8.5 8.5l.94-2.06 2.06-.94-2.06-.94L8.5 2.5l-.94 2.06-2.06.94zm10 10l.94 2.06.94-2.06 2.06-.94-2.06-.94-.94-2.06-.94 2.06-2.06.94z\"/><path d=\"M17.41 7.96l-1.37-1.37c-.4-.4-.92-.59-1.43-.59-.52 0-1.04.2-1.43.59L10.3 9.45l-7.72 7.72c-.78.78-.78 2.05 0 2.83L4 21.41c.39.39.9.59 1.41.59.51 0 1.02-.2 1.41-.59l7.78-7.78 2.81-2.81c.8-.78.8-2.07 0-2.86zM5.41 20L4 18.59l7.72-7.72 1.47 1.35L5.41 20z\"/>\n",
              "  </svg>\n",
              "      </button>\n",
              "      \n",
              "  <style>\n",
              "    .colab-df-container {\n",
              "      display:flex;\n",
              "      flex-wrap:wrap;\n",
              "      gap: 12px;\n",
              "    }\n",
              "\n",
              "    .colab-df-convert {\n",
              "      background-color: #E8F0FE;\n",
              "      border: none;\n",
              "      border-radius: 50%;\n",
              "      cursor: pointer;\n",
              "      display: none;\n",
              "      fill: #1967D2;\n",
              "      height: 32px;\n",
              "      padding: 0 0 0 0;\n",
              "      width: 32px;\n",
              "    }\n",
              "\n",
              "    .colab-df-convert:hover {\n",
              "      background-color: #E2EBFA;\n",
              "      box-shadow: 0px 1px 2px rgba(60, 64, 67, 0.3), 0px 1px 3px 1px rgba(60, 64, 67, 0.15);\n",
              "      fill: #174EA6;\n",
              "    }\n",
              "\n",
              "    [theme=dark] .colab-df-convert {\n",
              "      background-color: #3B4455;\n",
              "      fill: #D2E3FC;\n",
              "    }\n",
              "\n",
              "    [theme=dark] .colab-df-convert:hover {\n",
              "      background-color: #434B5C;\n",
              "      box-shadow: 0px 1px 3px 1px rgba(0, 0, 0, 0.15);\n",
              "      filter: drop-shadow(0px 1px 2px rgba(0, 0, 0, 0.3));\n",
              "      fill: #FFFFFF;\n",
              "    }\n",
              "  </style>\n",
              "\n",
              "      <script>\n",
              "        const buttonEl =\n",
              "          document.querySelector('#df-ba48b4c8-35ad-4918-a8f4-863b22bd4fd6 button.colab-df-convert');\n",
              "        buttonEl.style.display =\n",
              "          google.colab.kernel.accessAllowed ? 'block' : 'none';\n",
              "\n",
              "        async function convertToInteractive(key) {\n",
              "          const element = document.querySelector('#df-ba48b4c8-35ad-4918-a8f4-863b22bd4fd6');\n",
              "          const dataTable =\n",
              "            await google.colab.kernel.invokeFunction('convertToInteractive',\n",
              "                                                     [key], {});\n",
              "          if (!dataTable) return;\n",
              "\n",
              "          const docLinkHtml = 'Like what you see? Visit the ' +\n",
              "            '<a target=\"_blank\" href=https://colab.research.google.com/notebooks/data_table.ipynb>data table notebook</a>'\n",
              "            + ' to learn more about interactive tables.';\n",
              "          element.innerHTML = '';\n",
              "          dataTable['output_type'] = 'display_data';\n",
              "          await google.colab.output.renderOutput(dataTable, element);\n",
              "          const docLink = document.createElement('div');\n",
              "          docLink.innerHTML = docLinkHtml;\n",
              "          element.appendChild(docLink);\n",
              "        }\n",
              "      </script>\n",
              "    </div>\n",
              "  </div>\n",
              "  "
            ]
          },
          "metadata": {},
          "execution_count": 22
        }
      ],
      "source": [
        "info.describe(include= 'all')"
      ]
    },
    {
      "cell_type": "code",
      "execution_count": null,
      "metadata": {
        "colab": {
          "base_uri": "https://localhost:8080/"
        },
        "id": "ZtknUgv-CSIf",
        "outputId": "8b4c4ab6-2443-4cd0-f6c7-8e303d10dfe7"
      },
      "outputs": [
        {
          "output_type": "execute_result",
          "data": {
            "text/plain": [
              "0       False\n",
              "1       False\n",
              "3       False\n",
              "4       False\n",
              "5       False\n",
              "        ...  \n",
              "1010    False\n",
              "1011    False\n",
              "1012    False\n",
              "1013    False\n",
              "1014    False\n",
              "Length: 946, dtype: bool"
            ]
          },
          "metadata": {},
          "execution_count": 23
        }
      ],
      "source": [
        "info.duplicated('Name')"
      ]
    },
    {
      "cell_type": "code",
      "execution_count": null,
      "metadata": {
        "colab": {
          "base_uri": "https://localhost:8080/"
        },
        "id": "BuGnCFrCCuiS",
        "outputId": "abbf29b8-b6fb-42a5-8d85-9f9026aaf9a6"
      },
      "outputs": [
        {
          "output_type": "execute_result",
          "data": {
            "text/plain": [
              "False    874\n",
              "True      72\n",
              "dtype: int64"
            ]
          },
          "metadata": {},
          "execution_count": 24
        }
      ],
      "source": [
        "info.duplicated('Name').value_counts()"
      ]
    },
    {
      "cell_type": "code",
      "execution_count": null,
      "metadata": {
        "colab": {
          "base_uri": "https://localhost:8080/"
        },
        "id": "B5AYzHIkDChU",
        "outputId": "ca5e65d5-8c4a-4c39-ce3a-ef9aa320c660"
      },
      "outputs": [
        {
          "output_type": "execute_result",
          "data": {
            "text/plain": [
              "Gilles Jaquet       2\n",
              "Crawford Scad       2\n",
              "Dulsea Folkes       2\n",
              "Andria Kimpton      2\n",
              "Kissiah Maydway     2\n",
              "                   ..\n",
              "Eilis Pavlasek      1\n",
              "Kellsie Waby        1\n",
              "Inger Andriveaux    1\n",
              "Corina Triner       1\n",
              "Adey Ryal           1\n",
              "Name: Name, Length: 874, dtype: int64"
            ]
          },
          "metadata": {},
          "execution_count": 25
        }
      ],
      "source": [
        "Names=info.Name.value_counts()\n",
        "Names"
      ]
    },
    {
      "cell_type": "code",
      "execution_count": null,
      "metadata": {
        "colab": {
          "base_uri": "https://localhost:8080/"
        },
        "id": "F9HwG45XDhzw",
        "outputId": "c6ff2734-0f10-4bfe-9776-2e76a80f44a6"
      },
      "outputs": [
        {
          "output_type": "execute_result",
          "data": {
            "text/plain": [
              "Gilles Jaquet        2\n",
              "Crawford Scad        2\n",
              "Dulsea Folkes        2\n",
              "Andria Kimpton       2\n",
              "Kissiah Maydway      2\n",
              "                    ..\n",
              "Danica Nayshe        2\n",
              "Adella Hartshorne    2\n",
              "Saunders Blumson     2\n",
              "Mariette Daymont     2\n",
              "William Reeveley     2\n",
              "Name: Name, Length: 72, dtype: int64"
            ]
          },
          "metadata": {},
          "execution_count": 26
        }
      ],
      "source": [
        "Names[Names>1]"
      ]
    },
    {
      "cell_type": "code",
      "execution_count": null,
      "metadata": {
        "colab": {
          "base_uri": "https://localhost:8080/"
        },
        "id": "CkvvDXzPDsom",
        "outputId": "1bc16cfa-c4e3-49d8-df85-0d0b8671c587"
      },
      "outputs": [
        {
          "output_type": "execute_result",
          "data": {
            "text/plain": [
              "Penni Patemore      1\n",
              "Meara Darrington    1\n",
              "Maximo Guirard      1\n",
              "Kincaid Hellicar    1\n",
              "Genevra Friday      1\n",
              "                   ..\n",
              "Eilis Pavlasek      1\n",
              "Kellsie Waby        1\n",
              "Inger Andriveaux    1\n",
              "Corina Triner       1\n",
              "Adey Ryal           1\n",
              "Name: Name, Length: 802, dtype: int64"
            ]
          },
          "metadata": {},
          "execution_count": 27
        }
      ],
      "source": [
        "Names[Names==1]"
      ]
    },
    {
      "cell_type": "code",
      "execution_count": null,
      "metadata": {
        "colab": {
          "base_uri": "https://localhost:8080/",
          "height": 81
        },
        "id": "KLZdeOzyDwnA",
        "outputId": "25a1a7a8-a62f-4dcd-93bd-f429f7e54214"
      },
      "outputs": [
        {
          "output_type": "execute_result",
          "data": {
            "text/plain": [
              "                Name  Gender   Department  Salary          Loc   Rating\n",
              "1012  Jordain Cyster  Female  Engineering  75870   Los Angeles  Average"
            ],
            "text/html": [
              "\n",
              "  <div id=\"df-42ddc255-a2ba-4fb5-8a60-6c6a01026944\">\n",
              "    <div class=\"colab-df-container\">\n",
              "      <div>\n",
              "<style scoped>\n",
              "    .dataframe tbody tr th:only-of-type {\n",
              "        vertical-align: middle;\n",
              "    }\n",
              "\n",
              "    .dataframe tbody tr th {\n",
              "        vertical-align: top;\n",
              "    }\n",
              "\n",
              "    .dataframe thead th {\n",
              "        text-align: right;\n",
              "    }\n",
              "</style>\n",
              "<table border=\"1\" class=\"dataframe\">\n",
              "  <thead>\n",
              "    <tr style=\"text-align: right;\">\n",
              "      <th></th>\n",
              "      <th>Name</th>\n",
              "      <th>Gender</th>\n",
              "      <th>Department</th>\n",
              "      <th>Salary</th>\n",
              "      <th>Loc</th>\n",
              "      <th>Rating</th>\n",
              "    </tr>\n",
              "  </thead>\n",
              "  <tbody>\n",
              "    <tr>\n",
              "      <th>1012</th>\n",
              "      <td>Jordain Cyster</td>\n",
              "      <td>Female</td>\n",
              "      <td>Engineering</td>\n",
              "      <td>75870</td>\n",
              "      <td>Los Angeles</td>\n",
              "      <td>Average</td>\n",
              "    </tr>\n",
              "  </tbody>\n",
              "</table>\n",
              "</div>\n",
              "      <button class=\"colab-df-convert\" onclick=\"convertToInteractive('df-42ddc255-a2ba-4fb5-8a60-6c6a01026944')\"\n",
              "              title=\"Convert this dataframe to an interactive table.\"\n",
              "              style=\"display:none;\">\n",
              "        \n",
              "  <svg xmlns=\"http://www.w3.org/2000/svg\" height=\"24px\"viewBox=\"0 0 24 24\"\n",
              "       width=\"24px\">\n",
              "    <path d=\"M0 0h24v24H0V0z\" fill=\"none\"/>\n",
              "    <path d=\"M18.56 5.44l.94 2.06.94-2.06 2.06-.94-2.06-.94-.94-2.06-.94 2.06-2.06.94zm-11 1L8.5 8.5l.94-2.06 2.06-.94-2.06-.94L8.5 2.5l-.94 2.06-2.06.94zm10 10l.94 2.06.94-2.06 2.06-.94-2.06-.94-.94-2.06-.94 2.06-2.06.94z\"/><path d=\"M17.41 7.96l-1.37-1.37c-.4-.4-.92-.59-1.43-.59-.52 0-1.04.2-1.43.59L10.3 9.45l-7.72 7.72c-.78.78-.78 2.05 0 2.83L4 21.41c.39.39.9.59 1.41.59.51 0 1.02-.2 1.41-.59l7.78-7.78 2.81-2.81c.8-.78.8-2.07 0-2.86zM5.41 20L4 18.59l7.72-7.72 1.47 1.35L5.41 20z\"/>\n",
              "  </svg>\n",
              "      </button>\n",
              "      \n",
              "  <style>\n",
              "    .colab-df-container {\n",
              "      display:flex;\n",
              "      flex-wrap:wrap;\n",
              "      gap: 12px;\n",
              "    }\n",
              "\n",
              "    .colab-df-convert {\n",
              "      background-color: #E8F0FE;\n",
              "      border: none;\n",
              "      border-radius: 50%;\n",
              "      cursor: pointer;\n",
              "      display: none;\n",
              "      fill: #1967D2;\n",
              "      height: 32px;\n",
              "      padding: 0 0 0 0;\n",
              "      width: 32px;\n",
              "    }\n",
              "\n",
              "    .colab-df-convert:hover {\n",
              "      background-color: #E2EBFA;\n",
              "      box-shadow: 0px 1px 2px rgba(60, 64, 67, 0.3), 0px 1px 3px 1px rgba(60, 64, 67, 0.15);\n",
              "      fill: #174EA6;\n",
              "    }\n",
              "\n",
              "    [theme=dark] .colab-df-convert {\n",
              "      background-color: #3B4455;\n",
              "      fill: #D2E3FC;\n",
              "    }\n",
              "\n",
              "    [theme=dark] .colab-df-convert:hover {\n",
              "      background-color: #434B5C;\n",
              "      box-shadow: 0px 1px 3px 1px rgba(0, 0, 0, 0.15);\n",
              "      filter: drop-shadow(0px 1px 2px rgba(0, 0, 0, 0.3));\n",
              "      fill: #FFFFFF;\n",
              "    }\n",
              "  </style>\n",
              "\n",
              "      <script>\n",
              "        const buttonEl =\n",
              "          document.querySelector('#df-42ddc255-a2ba-4fb5-8a60-6c6a01026944 button.colab-df-convert');\n",
              "        buttonEl.style.display =\n",
              "          google.colab.kernel.accessAllowed ? 'block' : 'none';\n",
              "\n",
              "        async function convertToInteractive(key) {\n",
              "          const element = document.querySelector('#df-42ddc255-a2ba-4fb5-8a60-6c6a01026944');\n",
              "          const dataTable =\n",
              "            await google.colab.kernel.invokeFunction('convertToInteractive',\n",
              "                                                     [key], {});\n",
              "          if (!dataTable) return;\n",
              "\n",
              "          const docLinkHtml = 'Like what you see? Visit the ' +\n",
              "            '<a target=\"_blank\" href=https://colab.research.google.com/notebooks/data_table.ipynb>data table notebook</a>'\n",
              "            + ' to learn more about interactive tables.';\n",
              "          element.innerHTML = '';\n",
              "          dataTable['output_type'] = 'display_data';\n",
              "          await google.colab.output.renderOutput(dataTable, element);\n",
              "          const docLink = document.createElement('div');\n",
              "          docLink.innerHTML = docLinkHtml;\n",
              "          element.appendChild(docLink);\n",
              "        }\n",
              "      </script>\n",
              "    </div>\n",
              "  </div>\n",
              "  "
            ]
          },
          "metadata": {},
          "execution_count": 28
        }
      ],
      "source": [
        "info[info.Name=='Jordain Cyster']"
      ]
    },
    {
      "cell_type": "code",
      "execution_count": null,
      "metadata": {
        "colab": {
          "base_uri": "https://localhost:8080/",
          "height": 112
        },
        "id": "XKhZnmY_ELax",
        "outputId": "ced41db8-b44c-49fe-e47a-9ac49cb8b443"
      },
      "outputs": [
        {
          "output_type": "execute_result",
          "data": {
            "text/plain": [
              "            Name Gender                Department  Salary         Loc Rating\n",
              "69   Larry Pioch   Male  Research and Development  49670   Wellington   Poor\n",
              "130  Larry Pioch   Male  Research and Development  49670   Wellington   Good"
            ],
            "text/html": [
              "\n",
              "  <div id=\"df-38f75c7b-2c39-4587-8ea9-a18e9f6ca36e\">\n",
              "    <div class=\"colab-df-container\">\n",
              "      <div>\n",
              "<style scoped>\n",
              "    .dataframe tbody tr th:only-of-type {\n",
              "        vertical-align: middle;\n",
              "    }\n",
              "\n",
              "    .dataframe tbody tr th {\n",
              "        vertical-align: top;\n",
              "    }\n",
              "\n",
              "    .dataframe thead th {\n",
              "        text-align: right;\n",
              "    }\n",
              "</style>\n",
              "<table border=\"1\" class=\"dataframe\">\n",
              "  <thead>\n",
              "    <tr style=\"text-align: right;\">\n",
              "      <th></th>\n",
              "      <th>Name</th>\n",
              "      <th>Gender</th>\n",
              "      <th>Department</th>\n",
              "      <th>Salary</th>\n",
              "      <th>Loc</th>\n",
              "      <th>Rating</th>\n",
              "    </tr>\n",
              "  </thead>\n",
              "  <tbody>\n",
              "    <tr>\n",
              "      <th>69</th>\n",
              "      <td>Larry Pioch</td>\n",
              "      <td>Male</td>\n",
              "      <td>Research and Development</td>\n",
              "      <td>49670</td>\n",
              "      <td>Wellington</td>\n",
              "      <td>Poor</td>\n",
              "    </tr>\n",
              "    <tr>\n",
              "      <th>130</th>\n",
              "      <td>Larry Pioch</td>\n",
              "      <td>Male</td>\n",
              "      <td>Research and Development</td>\n",
              "      <td>49670</td>\n",
              "      <td>Wellington</td>\n",
              "      <td>Good</td>\n",
              "    </tr>\n",
              "  </tbody>\n",
              "</table>\n",
              "</div>\n",
              "      <button class=\"colab-df-convert\" onclick=\"convertToInteractive('df-38f75c7b-2c39-4587-8ea9-a18e9f6ca36e')\"\n",
              "              title=\"Convert this dataframe to an interactive table.\"\n",
              "              style=\"display:none;\">\n",
              "        \n",
              "  <svg xmlns=\"http://www.w3.org/2000/svg\" height=\"24px\"viewBox=\"0 0 24 24\"\n",
              "       width=\"24px\">\n",
              "    <path d=\"M0 0h24v24H0V0z\" fill=\"none\"/>\n",
              "    <path d=\"M18.56 5.44l.94 2.06.94-2.06 2.06-.94-2.06-.94-.94-2.06-.94 2.06-2.06.94zm-11 1L8.5 8.5l.94-2.06 2.06-.94-2.06-.94L8.5 2.5l-.94 2.06-2.06.94zm10 10l.94 2.06.94-2.06 2.06-.94-2.06-.94-.94-2.06-.94 2.06-2.06.94z\"/><path d=\"M17.41 7.96l-1.37-1.37c-.4-.4-.92-.59-1.43-.59-.52 0-1.04.2-1.43.59L10.3 9.45l-7.72 7.72c-.78.78-.78 2.05 0 2.83L4 21.41c.39.39.9.59 1.41.59.51 0 1.02-.2 1.41-.59l7.78-7.78 2.81-2.81c.8-.78.8-2.07 0-2.86zM5.41 20L4 18.59l7.72-7.72 1.47 1.35L5.41 20z\"/>\n",
              "  </svg>\n",
              "      </button>\n",
              "      \n",
              "  <style>\n",
              "    .colab-df-container {\n",
              "      display:flex;\n",
              "      flex-wrap:wrap;\n",
              "      gap: 12px;\n",
              "    }\n",
              "\n",
              "    .colab-df-convert {\n",
              "      background-color: #E8F0FE;\n",
              "      border: none;\n",
              "      border-radius: 50%;\n",
              "      cursor: pointer;\n",
              "      display: none;\n",
              "      fill: #1967D2;\n",
              "      height: 32px;\n",
              "      padding: 0 0 0 0;\n",
              "      width: 32px;\n",
              "    }\n",
              "\n",
              "    .colab-df-convert:hover {\n",
              "      background-color: #E2EBFA;\n",
              "      box-shadow: 0px 1px 2px rgba(60, 64, 67, 0.3), 0px 1px 3px 1px rgba(60, 64, 67, 0.15);\n",
              "      fill: #174EA6;\n",
              "    }\n",
              "\n",
              "    [theme=dark] .colab-df-convert {\n",
              "      background-color: #3B4455;\n",
              "      fill: #D2E3FC;\n",
              "    }\n",
              "\n",
              "    [theme=dark] .colab-df-convert:hover {\n",
              "      background-color: #434B5C;\n",
              "      box-shadow: 0px 1px 3px 1px rgba(0, 0, 0, 0.15);\n",
              "      filter: drop-shadow(0px 1px 2px rgba(0, 0, 0, 0.3));\n",
              "      fill: #FFFFFF;\n",
              "    }\n",
              "  </style>\n",
              "\n",
              "      <script>\n",
              "        const buttonEl =\n",
              "          document.querySelector('#df-38f75c7b-2c39-4587-8ea9-a18e9f6ca36e button.colab-df-convert');\n",
              "        buttonEl.style.display =\n",
              "          google.colab.kernel.accessAllowed ? 'block' : 'none';\n",
              "\n",
              "        async function convertToInteractive(key) {\n",
              "          const element = document.querySelector('#df-38f75c7b-2c39-4587-8ea9-a18e9f6ca36e');\n",
              "          const dataTable =\n",
              "            await google.colab.kernel.invokeFunction('convertToInteractive',\n",
              "                                                     [key], {});\n",
              "          if (!dataTable) return;\n",
              "\n",
              "          const docLinkHtml = 'Like what you see? Visit the ' +\n",
              "            '<a target=\"_blank\" href=https://colab.research.google.com/notebooks/data_table.ipynb>data table notebook</a>'\n",
              "            + ' to learn more about interactive tables.';\n",
              "          element.innerHTML = '';\n",
              "          dataTable['output_type'] = 'display_data';\n",
              "          await google.colab.output.renderOutput(dataTable, element);\n",
              "          const docLink = document.createElement('div');\n",
              "          docLink.innerHTML = docLinkHtml;\n",
              "          element.appendChild(docLink);\n",
              "        }\n",
              "      </script>\n",
              "    </div>\n",
              "  </div>\n",
              "  "
            ]
          },
          "metadata": {},
          "execution_count": 29
        }
      ],
      "source": [
        "info[info.Name=='Larry Pioch']"
      ]
    },
    {
      "cell_type": "code",
      "execution_count": null,
      "metadata": {
        "id": "QDn9iPONEdDK"
      },
      "outputs": [],
      "source": [
        "info.drop_duplicates(subset='Name',inplace=True)"
      ]
    },
    {
      "cell_type": "code",
      "execution_count": null,
      "metadata": {
        "colab": {
          "base_uri": "https://localhost:8080/",
          "height": 424
        },
        "id": "B0tze45AGQes",
        "outputId": "3bcb38e6-5abe-4963-d559-219529655c64"
      },
      "outputs": [
        {
          "output_type": "execute_result",
          "data": {
            "text/plain": [
              "                    Name        Gender            Department   Salary  \\\n",
              "0           Ches Bonnell          Male                 Sales   88050    \n",
              "1       Garwin Peasegood        Female           Engineering   68220    \n",
              "3       Saunders Blumson  Not revealed                 Legal   56370    \n",
              "4         Gardy Grigorey        Female               Support  107090    \n",
              "5        Marlie Charsley          Male               Support  108450    \n",
              "...                  ...           ...                   ...      ...   \n",
              "1010    Shaylyn Ransbury        Female               Support  100370    \n",
              "1011  Christoph Stretton        Female  Business Development   90240    \n",
              "1012      Jordain Cyster        Female           Engineering   75870    \n",
              "1013        Malory Biles        Female              Training   58740    \n",
              "1014           Adey Ryal        Female                 Legal   32500    \n",
              "\n",
              "              Loc     Rating  \n",
              "0        Bellevue  Very Good  \n",
              "1        Bellevue       Good  \n",
              "3     Los Angeles  Very Good  \n",
              "4     Los Angeles       Poor  \n",
              "5      Wellington       Poor  \n",
              "...           ...        ...  \n",
              "1010   Wellington    Average  \n",
              "1011   Wellington       Poor  \n",
              "1012  Los Angeles    Average  \n",
              "1013  Los Angeles  Not Rated  \n",
              "1014     Bellevue    Average  \n",
              "\n",
              "[874 rows x 6 columns]"
            ],
            "text/html": [
              "\n",
              "  <div id=\"df-907b1eca-032a-4c7c-a81e-1f8eb5f78236\">\n",
              "    <div class=\"colab-df-container\">\n",
              "      <div>\n",
              "<style scoped>\n",
              "    .dataframe tbody tr th:only-of-type {\n",
              "        vertical-align: middle;\n",
              "    }\n",
              "\n",
              "    .dataframe tbody tr th {\n",
              "        vertical-align: top;\n",
              "    }\n",
              "\n",
              "    .dataframe thead th {\n",
              "        text-align: right;\n",
              "    }\n",
              "</style>\n",
              "<table border=\"1\" class=\"dataframe\">\n",
              "  <thead>\n",
              "    <tr style=\"text-align: right;\">\n",
              "      <th></th>\n",
              "      <th>Name</th>\n",
              "      <th>Gender</th>\n",
              "      <th>Department</th>\n",
              "      <th>Salary</th>\n",
              "      <th>Loc</th>\n",
              "      <th>Rating</th>\n",
              "    </tr>\n",
              "  </thead>\n",
              "  <tbody>\n",
              "    <tr>\n",
              "      <th>0</th>\n",
              "      <td>Ches Bonnell</td>\n",
              "      <td>Male</td>\n",
              "      <td>Sales</td>\n",
              "      <td>88050</td>\n",
              "      <td>Bellevue</td>\n",
              "      <td>Very Good</td>\n",
              "    </tr>\n",
              "    <tr>\n",
              "      <th>1</th>\n",
              "      <td>Garwin Peasegood</td>\n",
              "      <td>Female</td>\n",
              "      <td>Engineering</td>\n",
              "      <td>68220</td>\n",
              "      <td>Bellevue</td>\n",
              "      <td>Good</td>\n",
              "    </tr>\n",
              "    <tr>\n",
              "      <th>3</th>\n",
              "      <td>Saunders Blumson</td>\n",
              "      <td>Not revealed</td>\n",
              "      <td>Legal</td>\n",
              "      <td>56370</td>\n",
              "      <td>Los Angeles</td>\n",
              "      <td>Very Good</td>\n",
              "    </tr>\n",
              "    <tr>\n",
              "      <th>4</th>\n",
              "      <td>Gardy Grigorey</td>\n",
              "      <td>Female</td>\n",
              "      <td>Support</td>\n",
              "      <td>107090</td>\n",
              "      <td>Los Angeles</td>\n",
              "      <td>Poor</td>\n",
              "    </tr>\n",
              "    <tr>\n",
              "      <th>5</th>\n",
              "      <td>Marlie Charsley</td>\n",
              "      <td>Male</td>\n",
              "      <td>Support</td>\n",
              "      <td>108450</td>\n",
              "      <td>Wellington</td>\n",
              "      <td>Poor</td>\n",
              "    </tr>\n",
              "    <tr>\n",
              "      <th>...</th>\n",
              "      <td>...</td>\n",
              "      <td>...</td>\n",
              "      <td>...</td>\n",
              "      <td>...</td>\n",
              "      <td>...</td>\n",
              "      <td>...</td>\n",
              "    </tr>\n",
              "    <tr>\n",
              "      <th>1010</th>\n",
              "      <td>Shaylyn Ransbury</td>\n",
              "      <td>Female</td>\n",
              "      <td>Support</td>\n",
              "      <td>100370</td>\n",
              "      <td>Wellington</td>\n",
              "      <td>Average</td>\n",
              "    </tr>\n",
              "    <tr>\n",
              "      <th>1011</th>\n",
              "      <td>Christoph Stretton</td>\n",
              "      <td>Female</td>\n",
              "      <td>Business Development</td>\n",
              "      <td>90240</td>\n",
              "      <td>Wellington</td>\n",
              "      <td>Poor</td>\n",
              "    </tr>\n",
              "    <tr>\n",
              "      <th>1012</th>\n",
              "      <td>Jordain Cyster</td>\n",
              "      <td>Female</td>\n",
              "      <td>Engineering</td>\n",
              "      <td>75870</td>\n",
              "      <td>Los Angeles</td>\n",
              "      <td>Average</td>\n",
              "    </tr>\n",
              "    <tr>\n",
              "      <th>1013</th>\n",
              "      <td>Malory Biles</td>\n",
              "      <td>Female</td>\n",
              "      <td>Training</td>\n",
              "      <td>58740</td>\n",
              "      <td>Los Angeles</td>\n",
              "      <td>Not Rated</td>\n",
              "    </tr>\n",
              "    <tr>\n",
              "      <th>1014</th>\n",
              "      <td>Adey Ryal</td>\n",
              "      <td>Female</td>\n",
              "      <td>Legal</td>\n",
              "      <td>32500</td>\n",
              "      <td>Bellevue</td>\n",
              "      <td>Average</td>\n",
              "    </tr>\n",
              "  </tbody>\n",
              "</table>\n",
              "<p>874 rows × 6 columns</p>\n",
              "</div>\n",
              "      <button class=\"colab-df-convert\" onclick=\"convertToInteractive('df-907b1eca-032a-4c7c-a81e-1f8eb5f78236')\"\n",
              "              title=\"Convert this dataframe to an interactive table.\"\n",
              "              style=\"display:none;\">\n",
              "        \n",
              "  <svg xmlns=\"http://www.w3.org/2000/svg\" height=\"24px\"viewBox=\"0 0 24 24\"\n",
              "       width=\"24px\">\n",
              "    <path d=\"M0 0h24v24H0V0z\" fill=\"none\"/>\n",
              "    <path d=\"M18.56 5.44l.94 2.06.94-2.06 2.06-.94-2.06-.94-.94-2.06-.94 2.06-2.06.94zm-11 1L8.5 8.5l.94-2.06 2.06-.94-2.06-.94L8.5 2.5l-.94 2.06-2.06.94zm10 10l.94 2.06.94-2.06 2.06-.94-2.06-.94-.94-2.06-.94 2.06-2.06.94z\"/><path d=\"M17.41 7.96l-1.37-1.37c-.4-.4-.92-.59-1.43-.59-.52 0-1.04.2-1.43.59L10.3 9.45l-7.72 7.72c-.78.78-.78 2.05 0 2.83L4 21.41c.39.39.9.59 1.41.59.51 0 1.02-.2 1.41-.59l7.78-7.78 2.81-2.81c.8-.78.8-2.07 0-2.86zM5.41 20L4 18.59l7.72-7.72 1.47 1.35L5.41 20z\"/>\n",
              "  </svg>\n",
              "      </button>\n",
              "      \n",
              "  <style>\n",
              "    .colab-df-container {\n",
              "      display:flex;\n",
              "      flex-wrap:wrap;\n",
              "      gap: 12px;\n",
              "    }\n",
              "\n",
              "    .colab-df-convert {\n",
              "      background-color: #E8F0FE;\n",
              "      border: none;\n",
              "      border-radius: 50%;\n",
              "      cursor: pointer;\n",
              "      display: none;\n",
              "      fill: #1967D2;\n",
              "      height: 32px;\n",
              "      padding: 0 0 0 0;\n",
              "      width: 32px;\n",
              "    }\n",
              "\n",
              "    .colab-df-convert:hover {\n",
              "      background-color: #E2EBFA;\n",
              "      box-shadow: 0px 1px 2px rgba(60, 64, 67, 0.3), 0px 1px 3px 1px rgba(60, 64, 67, 0.15);\n",
              "      fill: #174EA6;\n",
              "    }\n",
              "\n",
              "    [theme=dark] .colab-df-convert {\n",
              "      background-color: #3B4455;\n",
              "      fill: #D2E3FC;\n",
              "    }\n",
              "\n",
              "    [theme=dark] .colab-df-convert:hover {\n",
              "      background-color: #434B5C;\n",
              "      box-shadow: 0px 1px 3px 1px rgba(0, 0, 0, 0.15);\n",
              "      filter: drop-shadow(0px 1px 2px rgba(0, 0, 0, 0.3));\n",
              "      fill: #FFFFFF;\n",
              "    }\n",
              "  </style>\n",
              "\n",
              "      <script>\n",
              "        const buttonEl =\n",
              "          document.querySelector('#df-907b1eca-032a-4c7c-a81e-1f8eb5f78236 button.colab-df-convert');\n",
              "        buttonEl.style.display =\n",
              "          google.colab.kernel.accessAllowed ? 'block' : 'none';\n",
              "\n",
              "        async function convertToInteractive(key) {\n",
              "          const element = document.querySelector('#df-907b1eca-032a-4c7c-a81e-1f8eb5f78236');\n",
              "          const dataTable =\n",
              "            await google.colab.kernel.invokeFunction('convertToInteractive',\n",
              "                                                     [key], {});\n",
              "          if (!dataTable) return;\n",
              "\n",
              "          const docLinkHtml = 'Like what you see? Visit the ' +\n",
              "            '<a target=\"_blank\" href=https://colab.research.google.com/notebooks/data_table.ipynb>data table notebook</a>'\n",
              "            + ' to learn more about interactive tables.';\n",
              "          element.innerHTML = '';\n",
              "          dataTable['output_type'] = 'display_data';\n",
              "          await google.colab.output.renderOutput(dataTable, element);\n",
              "          const docLink = document.createElement('div');\n",
              "          docLink.innerHTML = docLinkHtml;\n",
              "          element.appendChild(docLink);\n",
              "        }\n",
              "      </script>\n",
              "    </div>\n",
              "  </div>\n",
              "  "
            ]
          },
          "metadata": {},
          "execution_count": 31
        }
      ],
      "source": [
        "info"
      ]
    },
    {
      "cell_type": "code",
      "execution_count": null,
      "metadata": {
        "colab": {
          "base_uri": "https://localhost:8080/"
        },
        "id": "N9GrD92PGTOv",
        "outputId": "eb22357f-eb3e-451e-f838-31b16bc02064"
      },
      "outputs": [
        {
          "output_type": "execute_result",
          "data": {
            "text/plain": [
              "874"
            ]
          },
          "metadata": {},
          "execution_count": 32
        }
      ],
      "source": [
        "info['Gender'].value_counts().sum()"
      ]
    },
    {
      "cell_type": "code",
      "execution_count": null,
      "metadata": {
        "colab": {
          "base_uri": "https://localhost:8080/"
        },
        "id": "8opch9_FGt3o",
        "outputId": "b3207107-254e-41cc-831e-c1b4ea5d9c00"
      },
      "outputs": [
        {
          "output_type": "execute_result",
          "data": {
            "text/plain": [
              "Male            430\n",
              "Female          406\n",
              "Not revealed     38\n",
              "Name: Gender, dtype: int64"
            ]
          },
          "metadata": {},
          "execution_count": 33
        }
      ],
      "source": [
        "info['Gender'].value_counts()"
      ]
    },
    {
      "cell_type": "code",
      "execution_count": null,
      "metadata": {
        "colab": {
          "base_uri": "https://localhost:8080/"
        },
        "id": "e0txkjTwG1tJ",
        "outputId": "0e3b152e-3ccb-4f3e-98c2-84bb006d378b"
      },
      "outputs": [
        {
          "output_type": "execute_result",
          "data": {
            "text/plain": [
              "Male            0.492\n",
              "Female          0.465\n",
              "Not revealed    0.043\n",
              "Name: Gender, dtype: float64"
            ]
          },
          "metadata": {},
          "execution_count": 34
        }
      ],
      "source": [
        "Gender_Percentage=info['Gender'].value_counts()/info['Gender'].value_counts().sum()\n",
        "Gender_Percentage.round(3)"
      ]
    },
    {
      "cell_type": "code",
      "execution_count": null,
      "metadata": {
        "colab": {
          "base_uri": "https://localhost:8080/"
        },
        "id": "dL-PBNBgHfPg",
        "outputId": "ba383915-daa7-4121-fed4-47c61720051a"
      },
      "outputs": [
        {
          "output_type": "execute_result",
          "data": {
            "text/plain": [
              "count      874\n",
              "unique       3\n",
              "top       Male\n",
              "freq       430\n",
              "Name: Gender, dtype: object"
            ]
          },
          "metadata": {},
          "execution_count": 35
        }
      ],
      "source": [
        "info['Gender'].describe()"
      ]
    },
    {
      "cell_type": "code",
      "execution_count": null,
      "metadata": {
        "colab": {
          "base_uri": "https://localhost:8080/",
          "height": 253
        },
        "id": "8-PSajJEJDfz",
        "outputId": "57abb712-44cd-4199-8b73-9a4975debfe8"
      },
      "outputs": [
        {
          "output_type": "execute_result",
          "data": {
            "text/plain": [
              "Department    Accounting  Business Development  Engineering  Human Resources  \\\n",
              "Gender                                                                         \n",
              "Female                27                    38           35               37   \n",
              "Male                  36                    33           35               33   \n",
              "Not revealed           2                     3            5                3   \n",
              "\n",
              "Department    Legal  Marketing  Product Management  Research and Development  \\\n",
              "Gender                                                                         \n",
              "Female           32         31                  39                        32   \n",
              "Male             44         31                  40                        28   \n",
              "Not revealed      4          1                   1                         5   \n",
              "\n",
              "Department    Sales  Services  Support  Training  \n",
              "Gender                                            \n",
              "Female           32        39       30        34  \n",
              "Male             39        35       41        35  \n",
              "Not revealed      4         3        4         3  "
            ],
            "text/html": [
              "\n",
              "  <div id=\"df-474c5fd4-c040-4e68-b6e7-29e18e7a038a\">\n",
              "    <div class=\"colab-df-container\">\n",
              "      <div>\n",
              "<style scoped>\n",
              "    .dataframe tbody tr th:only-of-type {\n",
              "        vertical-align: middle;\n",
              "    }\n",
              "\n",
              "    .dataframe tbody tr th {\n",
              "        vertical-align: top;\n",
              "    }\n",
              "\n",
              "    .dataframe thead th {\n",
              "        text-align: right;\n",
              "    }\n",
              "</style>\n",
              "<table border=\"1\" class=\"dataframe\">\n",
              "  <thead>\n",
              "    <tr style=\"text-align: right;\">\n",
              "      <th>Department</th>\n",
              "      <th>Accounting</th>\n",
              "      <th>Business Development</th>\n",
              "      <th>Engineering</th>\n",
              "      <th>Human Resources</th>\n",
              "      <th>Legal</th>\n",
              "      <th>Marketing</th>\n",
              "      <th>Product Management</th>\n",
              "      <th>Research and Development</th>\n",
              "      <th>Sales</th>\n",
              "      <th>Services</th>\n",
              "      <th>Support</th>\n",
              "      <th>Training</th>\n",
              "    </tr>\n",
              "    <tr>\n",
              "      <th>Gender</th>\n",
              "      <th></th>\n",
              "      <th></th>\n",
              "      <th></th>\n",
              "      <th></th>\n",
              "      <th></th>\n",
              "      <th></th>\n",
              "      <th></th>\n",
              "      <th></th>\n",
              "      <th></th>\n",
              "      <th></th>\n",
              "      <th></th>\n",
              "      <th></th>\n",
              "    </tr>\n",
              "  </thead>\n",
              "  <tbody>\n",
              "    <tr>\n",
              "      <th>Female</th>\n",
              "      <td>27</td>\n",
              "      <td>38</td>\n",
              "      <td>35</td>\n",
              "      <td>37</td>\n",
              "      <td>32</td>\n",
              "      <td>31</td>\n",
              "      <td>39</td>\n",
              "      <td>32</td>\n",
              "      <td>32</td>\n",
              "      <td>39</td>\n",
              "      <td>30</td>\n",
              "      <td>34</td>\n",
              "    </tr>\n",
              "    <tr>\n",
              "      <th>Male</th>\n",
              "      <td>36</td>\n",
              "      <td>33</td>\n",
              "      <td>35</td>\n",
              "      <td>33</td>\n",
              "      <td>44</td>\n",
              "      <td>31</td>\n",
              "      <td>40</td>\n",
              "      <td>28</td>\n",
              "      <td>39</td>\n",
              "      <td>35</td>\n",
              "      <td>41</td>\n",
              "      <td>35</td>\n",
              "    </tr>\n",
              "    <tr>\n",
              "      <th>Not revealed</th>\n",
              "      <td>2</td>\n",
              "      <td>3</td>\n",
              "      <td>5</td>\n",
              "      <td>3</td>\n",
              "      <td>4</td>\n",
              "      <td>1</td>\n",
              "      <td>1</td>\n",
              "      <td>5</td>\n",
              "      <td>4</td>\n",
              "      <td>3</td>\n",
              "      <td>4</td>\n",
              "      <td>3</td>\n",
              "    </tr>\n",
              "  </tbody>\n",
              "</table>\n",
              "</div>\n",
              "      <button class=\"colab-df-convert\" onclick=\"convertToInteractive('df-474c5fd4-c040-4e68-b6e7-29e18e7a038a')\"\n",
              "              title=\"Convert this dataframe to an interactive table.\"\n",
              "              style=\"display:none;\">\n",
              "        \n",
              "  <svg xmlns=\"http://www.w3.org/2000/svg\" height=\"24px\"viewBox=\"0 0 24 24\"\n",
              "       width=\"24px\">\n",
              "    <path d=\"M0 0h24v24H0V0z\" fill=\"none\"/>\n",
              "    <path d=\"M18.56 5.44l.94 2.06.94-2.06 2.06-.94-2.06-.94-.94-2.06-.94 2.06-2.06.94zm-11 1L8.5 8.5l.94-2.06 2.06-.94-2.06-.94L8.5 2.5l-.94 2.06-2.06.94zm10 10l.94 2.06.94-2.06 2.06-.94-2.06-.94-.94-2.06-.94 2.06-2.06.94z\"/><path d=\"M17.41 7.96l-1.37-1.37c-.4-.4-.92-.59-1.43-.59-.52 0-1.04.2-1.43.59L10.3 9.45l-7.72 7.72c-.78.78-.78 2.05 0 2.83L4 21.41c.39.39.9.59 1.41.59.51 0 1.02-.2 1.41-.59l7.78-7.78 2.81-2.81c.8-.78.8-2.07 0-2.86zM5.41 20L4 18.59l7.72-7.72 1.47 1.35L5.41 20z\"/>\n",
              "  </svg>\n",
              "      </button>\n",
              "      \n",
              "  <style>\n",
              "    .colab-df-container {\n",
              "      display:flex;\n",
              "      flex-wrap:wrap;\n",
              "      gap: 12px;\n",
              "    }\n",
              "\n",
              "    .colab-df-convert {\n",
              "      background-color: #E8F0FE;\n",
              "      border: none;\n",
              "      border-radius: 50%;\n",
              "      cursor: pointer;\n",
              "      display: none;\n",
              "      fill: #1967D2;\n",
              "      height: 32px;\n",
              "      padding: 0 0 0 0;\n",
              "      width: 32px;\n",
              "    }\n",
              "\n",
              "    .colab-df-convert:hover {\n",
              "      background-color: #E2EBFA;\n",
              "      box-shadow: 0px 1px 2px rgba(60, 64, 67, 0.3), 0px 1px 3px 1px rgba(60, 64, 67, 0.15);\n",
              "      fill: #174EA6;\n",
              "    }\n",
              "\n",
              "    [theme=dark] .colab-df-convert {\n",
              "      background-color: #3B4455;\n",
              "      fill: #D2E3FC;\n",
              "    }\n",
              "\n",
              "    [theme=dark] .colab-df-convert:hover {\n",
              "      background-color: #434B5C;\n",
              "      box-shadow: 0px 1px 3px 1px rgba(0, 0, 0, 0.15);\n",
              "      filter: drop-shadow(0px 1px 2px rgba(0, 0, 0, 0.3));\n",
              "      fill: #FFFFFF;\n",
              "    }\n",
              "  </style>\n",
              "\n",
              "      <script>\n",
              "        const buttonEl =\n",
              "          document.querySelector('#df-474c5fd4-c040-4e68-b6e7-29e18e7a038a button.colab-df-convert');\n",
              "        buttonEl.style.display =\n",
              "          google.colab.kernel.accessAllowed ? 'block' : 'none';\n",
              "\n",
              "        async function convertToInteractive(key) {\n",
              "          const element = document.querySelector('#df-474c5fd4-c040-4e68-b6e7-29e18e7a038a');\n",
              "          const dataTable =\n",
              "            await google.colab.kernel.invokeFunction('convertToInteractive',\n",
              "                                                     [key], {});\n",
              "          if (!dataTable) return;\n",
              "\n",
              "          const docLinkHtml = 'Like what you see? Visit the ' +\n",
              "            '<a target=\"_blank\" href=https://colab.research.google.com/notebooks/data_table.ipynb>data table notebook</a>'\n",
              "            + ' to learn more about interactive tables.';\n",
              "          element.innerHTML = '';\n",
              "          dataTable['output_type'] = 'display_data';\n",
              "          await google.colab.output.renderOutput(dataTable, element);\n",
              "          const docLink = document.createElement('div');\n",
              "          docLink.innerHTML = docLinkHtml;\n",
              "          element.appendChild(docLink);\n",
              "        }\n",
              "      </script>\n",
              "    </div>\n",
              "  </div>\n",
              "  "
            ]
          },
          "metadata": {},
          "execution_count": 36
        }
      ],
      "source": [
        "pd.crosstab(info['Gender'],info['Department'])"
      ]
    },
    {
      "cell_type": "code",
      "source": [
        "info['Salary'] = info['Salary'].astype(float)"
      ],
      "metadata": {
        "id": "7Gfw7a5SS8dJ"
      },
      "execution_count": null,
      "outputs": []
    },
    {
      "cell_type": "code",
      "source": [
        "info['Salary'].mean()"
      ],
      "metadata": {
        "colab": {
          "base_uri": "https://localhost:8080/"
        },
        "id": "GSub_M8nUM9P",
        "outputId": "257c32e1-acf7-4c5e-d713-7c8d1790c4c8"
      },
      "execution_count": null,
      "outputs": [
        {
          "output_type": "execute_result",
          "data": {
            "text/plain": [
              "73831.51029748283"
            ]
          },
          "metadata": {},
          "execution_count": 38
        }
      ]
    },
    {
      "cell_type": "code",
      "source": [
        "info.groupby('Department')['Salary'].mean()"
      ],
      "metadata": {
        "colab": {
          "base_uri": "https://localhost:8080/"
        },
        "id": "rzmLQWmHUQRT",
        "outputId": "14cb3059-f963-432f-fa9c-89f481219d6f"
      },
      "execution_count": null,
      "outputs": [
        {
          "output_type": "execute_result",
          "data": {
            "text/plain": [
              "Department\n",
              "Accounting                  75896.307692\n",
              "Business Development        76309.189189\n",
              "Engineering                 71958.533333\n",
              "Human Resources             71472.739726\n",
              "Legal                       72663.125000\n",
              "Marketing                   76646.349206\n",
              "Product Management          72082.375000\n",
              "Research and Development    69768.153846\n",
              "Sales                       71750.933333\n",
              "Services                    76710.779221\n",
              "Support                     74822.533333\n",
              "Training                    76266.250000\n",
              "Name: Salary, dtype: float64"
            ]
          },
          "metadata": {},
          "execution_count": 39
        }
      ]
    },
    {
      "cell_type": "code",
      "source": [
        "info.groupby('Department')['Salary'].mean().round(1)"
      ],
      "metadata": {
        "colab": {
          "base_uri": "https://localhost:8080/"
        },
        "id": "df7ooXgrUda5",
        "outputId": "484b6e65-aed0-47c8-e5be-cc484fd984c5"
      },
      "execution_count": null,
      "outputs": [
        {
          "output_type": "execute_result",
          "data": {
            "text/plain": [
              "Department\n",
              "Accounting                  75896.3\n",
              "Business Development        76309.2\n",
              "Engineering                 71958.5\n",
              "Human Resources             71472.7\n",
              "Legal                       72663.1\n",
              "Marketing                   76646.3\n",
              "Product Management          72082.4\n",
              "Research and Development    69768.2\n",
              "Sales                       71750.9\n",
              "Services                    76710.8\n",
              "Support                     74822.5\n",
              "Training                    76266.2\n",
              "Name: Salary, dtype: float64"
            ]
          },
          "metadata": {},
          "execution_count": 40
        }
      ]
    },
    {
      "cell_type": "code",
      "source": [
        "acc_avg_salary=info[info['Department']=='Accounting']['Salary'].mean()\n",
        "acc_avg_salary"
      ],
      "metadata": {
        "colab": {
          "base_uri": "https://localhost:8080/"
        },
        "id": "jZ2pMmJ5xL_4",
        "outputId": "3d053ad2-8ec5-460e-cf15-2b49a1a12793"
      },
      "execution_count": null,
      "outputs": [
        {
          "output_type": "execute_result",
          "data": {
            "text/plain": [
              "75896.30769230769"
            ]
          },
          "metadata": {},
          "execution_count": 42
        }
      ]
    },
    {
      "cell_type": "code",
      "source": [
        "acc_avg_salary=info[info['Department']=='Accounting']['Salary'].mean().round(0)\n",
        "acc_avg_salary"
      ],
      "metadata": {
        "colab": {
          "base_uri": "https://localhost:8080/"
        },
        "id": "wWBRtHnGx_LZ",
        "outputId": "9880bc90-2e35-4c5c-c820-962ad349bea9"
      },
      "execution_count": null,
      "outputs": [
        {
          "output_type": "execute_result",
          "data": {
            "text/plain": [
              "75896.0"
            ]
          },
          "metadata": {},
          "execution_count": 43
        }
      ]
    },
    {
      "cell_type": "code",
      "source": [
        "acc_avg_salary=info[info['Department']=='Marketing']['Salary'].mean().round(0)\n",
        "acc_avg_salary"
      ],
      "metadata": {
        "colab": {
          "base_uri": "https://localhost:8080/"
        },
        "id": "-g8LRwPkyDeo",
        "outputId": "1f19101e-506d-4d5a-c451-84cffb968af3"
      },
      "execution_count": null,
      "outputs": [
        {
          "output_type": "execute_result",
          "data": {
            "text/plain": [
              "76646.0"
            ]
          },
          "metadata": {},
          "execution_count": 44
        }
      ]
    },
    {
      "cell_type": "code",
      "source": [
        "info.groupby('Department')['Salary'].mean().round(0).sort_values()"
      ],
      "metadata": {
        "colab": {
          "base_uri": "https://localhost:8080/"
        },
        "id": "0E4wBNilyO-L",
        "outputId": "e69e2306-635b-43bf-cf3f-e228b6be71d8"
      },
      "execution_count": null,
      "outputs": [
        {
          "output_type": "execute_result",
          "data": {
            "text/plain": [
              "Department\n",
              "Research and Development    69768.0\n",
              "Human Resources             71473.0\n",
              "Sales                       71751.0\n",
              "Engineering                 71959.0\n",
              "Product Management          72082.0\n",
              "Legal                       72663.0\n",
              "Support                     74823.0\n",
              "Accounting                  75896.0\n",
              "Training                    76266.0\n",
              "Business Development        76309.0\n",
              "Marketing                   76646.0\n",
              "Services                    76711.0\n",
              "Name: Salary, dtype: float64"
            ]
          },
          "metadata": {},
          "execution_count": 46
        }
      ]
    },
    {
      "cell_type": "code",
      "source": [
        "info.groupby('Department')['Salary'].mean().round(0).max()"
      ],
      "metadata": {
        "colab": {
          "base_uri": "https://localhost:8080/"
        },
        "id": "MghYIT_Uyype",
        "outputId": "195210ce-6280-4ac0-e061-4f1daf261f9b"
      },
      "execution_count": null,
      "outputs": [
        {
          "output_type": "execute_result",
          "data": {
            "text/plain": [
              "76711.0"
            ]
          },
          "metadata": {},
          "execution_count": 47
        }
      ]
    },
    {
      "cell_type": "code",
      "source": [
        "info.groupby('Department')['Salary'].mean().round(0).min()"
      ],
      "metadata": {
        "colab": {
          "base_uri": "https://localhost:8080/"
        },
        "id": "BKtx8iyozMh8",
        "outputId": "c7dcd7d1-e308-42ab-811e-de91ce8f4a89"
      },
      "execution_count": null,
      "outputs": [
        {
          "output_type": "execute_result",
          "data": {
            "text/plain": [
              "69768.0"
            ]
          },
          "metadata": {},
          "execution_count": 49
        }
      ]
    },
    {
      "cell_type": "code",
      "source": [
        "dept_avg_salary=info.groupby('Department')['Salary'].mean().round(0)\n",
        "dept_avg_salary.idxmax()"
      ],
      "metadata": {
        "colab": {
          "base_uri": "https://localhost:8080/",
          "height": 35
        },
        "id": "O6WOB15m2mZ4",
        "outputId": "1d9c0170-bb12-4523-b699-97744ec62435"
      },
      "execution_count": null,
      "outputs": [
        {
          "output_type": "execute_result",
          "data": {
            "text/plain": [
              "'Services'"
            ],
            "application/vnd.google.colaboratory.intrinsic+json": {
              "type": "string"
            }
          },
          "metadata": {},
          "execution_count": 50
        }
      ]
    },
    {
      "cell_type": "code",
      "source": [
        "dept_avg_salary=info.groupby('Department')['Salary'].mean().round(0)\n",
        "dept_avg_salary.idxmin()"
      ],
      "metadata": {
        "colab": {
          "base_uri": "https://localhost:8080/",
          "height": 35
        },
        "id": "1iUwBQHF25HA",
        "outputId": "1382fe5a-de7b-430b-8e99-dfa9144562a2"
      },
      "execution_count": null,
      "outputs": [
        {
          "output_type": "execute_result",
          "data": {
            "text/plain": [
              "'Research and Development'"
            ],
            "application/vnd.google.colaboratory.intrinsic+json": {
              "type": "string"
            }
          },
          "metadata": {},
          "execution_count": 51
        }
      ]
    },
    {
      "cell_type": "code",
      "source": [
        "info.groupby('Loc')['Salary'].mean().round(0)"
      ],
      "metadata": {
        "colab": {
          "base_uri": "https://localhost:8080/"
        },
        "id": "1Ml5jFWK28rG",
        "outputId": "f1fb85bd-6a9a-4519-d58b-a52b5fdf5c5d"
      },
      "execution_count": null,
      "outputs": [
        {
          "output_type": "execute_result",
          "data": {
            "text/plain": [
              "Loc\n",
              "Bellevue       76100.0\n",
              "Los Angeles    73580.0\n",
              "Wellington     72372.0\n",
              "Name: Salary, dtype: float64"
            ]
          },
          "metadata": {},
          "execution_count": 52
        }
      ]
    },
    {
      "cell_type": "code",
      "source": [
        "info['Rating'].value_counts()"
      ],
      "metadata": {
        "colab": {
          "base_uri": "https://localhost:8080/"
        },
        "id": "AZZjz5zS4s3n",
        "outputId": "961888a1-4e7f-4d0f-ef19-054f80cced3c"
      },
      "execution_count": null,
      "outputs": [
        {
          "output_type": "execute_result",
          "data": {
            "text/plain": [
              "Average      400\n",
              "Good         163\n",
              "Poor         116\n",
              "Very Good     81\n",
              "Not Rated     61\n",
              "Very Poor     53\n",
              "Name: Rating, dtype: int64"
            ]
          },
          "metadata": {},
          "execution_count": 53
        }
      ]
    },
    {
      "cell_type": "code",
      "source": [
        "rating_per=info['Rating'].value_counts()/info['Rating'].value_counts().sum()\n",
        "rating_per"
      ],
      "metadata": {
        "colab": {
          "base_uri": "https://localhost:8080/"
        },
        "id": "hruSoLwp5Yz7",
        "outputId": "13817336-991a-4945-f805-5edae74f9ba5"
      },
      "execution_count": null,
      "outputs": [
        {
          "output_type": "execute_result",
          "data": {
            "text/plain": [
              "Average      0.457666\n",
              "Good         0.186499\n",
              "Poor         0.132723\n",
              "Very Good    0.092677\n",
              "Not Rated    0.069794\n",
              "Very Poor    0.060641\n",
              "Name: Rating, dtype: float64"
            ]
          },
          "metadata": {},
          "execution_count": 54
        }
      ]
    },
    {
      "cell_type": "code",
      "source": [
        "rating_per=info['Rating'].value_counts()/info['Rating'].value_counts().sum()\n",
        "rating_per*100"
      ],
      "metadata": {
        "colab": {
          "base_uri": "https://localhost:8080/"
        },
        "id": "TvlV_CLl50hD",
        "outputId": "bdc935a4-b2f8-4e3a-8893-d540eee81ffd"
      },
      "execution_count": null,
      "outputs": [
        {
          "output_type": "execute_result",
          "data": {
            "text/plain": [
              "Average      45.766590\n",
              "Good         18.649886\n",
              "Poor         13.272311\n",
              "Very Good     9.267735\n",
              "Not Rated     6.979405\n",
              "Very Poor     6.064073\n",
              "Name: Rating, dtype: float64"
            ]
          },
          "metadata": {},
          "execution_count": 55
        }
      ]
    },
    {
      "cell_type": "code",
      "source": [
        "gender_salary=info.groupby('Gender')['Salary'].mean()\n",
        "gender_salary"
      ],
      "metadata": {
        "colab": {
          "base_uri": "https://localhost:8080/"
        },
        "id": "r0pk97K156mr",
        "outputId": "c5790f8e-a656-40d7-a50a-70ef226850d1"
      },
      "execution_count": null,
      "outputs": [
        {
          "output_type": "execute_result",
          "data": {
            "text/plain": [
              "Gender\n",
              "Female          72609.753695\n",
              "Male            74506.651163\n",
              "Not revealed    79245.263158\n",
              "Name: Salary, dtype: float64"
            ]
          },
          "metadata": {},
          "execution_count": 57
        }
      ]
    },
    {
      "cell_type": "code",
      "source": [
        "gender_salary=info.groupby('Gender')['Salary'].mean().round(0)\n",
        "gender_salary"
      ],
      "metadata": {
        "colab": {
          "base_uri": "https://localhost:8080/"
        },
        "id": "LPiO5KtS6seD",
        "outputId": "21f83330-0749-4f12-97f4-5b4834f9700b"
      },
      "execution_count": null,
      "outputs": [
        {
          "output_type": "execute_result",
          "data": {
            "text/plain": [
              "Gender\n",
              "Female          72610.0\n",
              "Male            74507.0\n",
              "Not revealed    79245.0\n",
              "Name: Salary, dtype: float64"
            ]
          },
          "metadata": {},
          "execution_count": 58
        }
      ]
    },
    {
      "cell_type": "code",
      "source": [
        "pay_m=info[info['Gender']=='Male']['Salary'].mean().round(0)\n",
        "pay_m"
      ],
      "metadata": {
        "colab": {
          "base_uri": "https://localhost:8080/"
        },
        "id": "MfV6JsiH8Gu-",
        "outputId": "efd4b4cb-9cbb-4e89-883f-0f58445c3359"
      },
      "execution_count": null,
      "outputs": [
        {
          "output_type": "execute_result",
          "data": {
            "text/plain": [
              "74507.0"
            ]
          },
          "metadata": {},
          "execution_count": 65
        }
      ]
    },
    {
      "cell_type": "code",
      "source": [
        "pay_f=info[info['Gender']=='Female']['Salary'].mean().round(0)\n",
        "pay_f"
      ],
      "metadata": {
        "colab": {
          "base_uri": "https://localhost:8080/"
        },
        "id": "9XWVkppY8api",
        "outputId": "a7aa4ad0-e0c9-4244-b75d-61187a265037"
      },
      "execution_count": null,
      "outputs": [
        {
          "output_type": "execute_result",
          "data": {
            "text/plain": [
              "72610.0"
            ]
          },
          "metadata": {},
          "execution_count": 66
        }
      ]
    },
    {
      "cell_type": "code",
      "source": [
        "pay_gap=(pay_m/pay_f - 1)*100\n",
        "pay_gap"
      ],
      "metadata": {
        "colab": {
          "base_uri": "https://localhost:8080/"
        },
        "id": "kXOQ9CLk8f-2",
        "outputId": "92cb4954-07ee-4a4f-a7db-28215d5e07a8"
      },
      "execution_count": null,
      "outputs": [
        {
          "output_type": "execute_result",
          "data": {
            "text/plain": [
              "2.612587797823984"
            ]
          },
          "metadata": {},
          "execution_count": 67
        }
      ]
    },
    {
      "cell_type": "code",
      "source": [
        "pay_gap=((pay_m/pay_f - 1)*100).round(0)\n",
        "pay_gap"
      ],
      "metadata": {
        "colab": {
          "base_uri": "https://localhost:8080/"
        },
        "id": "-t0UFmaz8qxi",
        "outputId": "0c982e2e-47b3-483b-f1e8-f3f7daaea2e4"
      },
      "execution_count": null,
      "outputs": [
        {
          "output_type": "execute_result",
          "data": {
            "text/plain": [
              "3.0"
            ]
          },
          "metadata": {},
          "execution_count": 70
        }
      ]
    },
    {
      "cell_type": "code",
      "source": [
        "info.groupby(['Department','Gender'])['Salary'].mean().round(0)"
      ],
      "metadata": {
        "colab": {
          "base_uri": "https://localhost:8080/"
        },
        "id": "Q-6GlHeq81Eo",
        "outputId": "3217927c-a5a3-4de7-bad6-b9160d9a1c11"
      },
      "execution_count": null,
      "outputs": [
        {
          "output_type": "execute_result",
          "data": {
            "text/plain": [
              "Department                Gender      \n",
              "Accounting                Female           72814.0\n",
              "                          Male             76726.0\n",
              "                          Not revealed    102560.0\n",
              "Business Development      Female           74667.0\n",
              "                          Male             80596.0\n",
              "                          Not revealed     49957.0\n",
              "Engineering               Female           74868.0\n",
              "                          Male             68097.0\n",
              "                          Not revealed     78626.0\n",
              "Human Resources           Female           67062.0\n",
              "                          Male             74345.0\n",
              "                          Not revealed     94283.0\n",
              "Legal                     Female           69904.0\n",
              "                          Male             73832.0\n",
              "                          Not revealed     81875.0\n",
              "Marketing                 Female           79108.0\n",
              "                          Male             73242.0\n",
              "                          Not revealed    105870.0\n",
              "Product Management        Female           71558.0\n",
              "                          Male             73484.0\n",
              "                          Not revealed     36480.0\n",
              "Research and Development  Female           67888.0\n",
              "                          Male             70338.0\n",
              "                          Not revealed     78614.0\n",
              "Sales                     Female           70144.0\n",
              "                          Male             71287.0\n",
              "                          Not revealed     89125.0\n",
              "Services                  Female           74161.0\n",
              "                          Male             80379.0\n",
              "                          Not revealed     67067.0\n",
              "Support                   Female           71586.0\n",
              "                          Male             77054.0\n",
              "                          Not revealed     76225.0\n",
              "Training                  Female           77579.0\n",
              "                          Male             74247.0\n",
              "                          Not revealed     84943.0\n",
              "Name: Salary, dtype: float64"
            ]
          },
          "metadata": {},
          "execution_count": 72
        }
      ]
    },
    {
      "cell_type": "code",
      "source": [
        "info.groupby(['Loc','Gender'])['Salary'].mean().round(0)"
      ],
      "metadata": {
        "colab": {
          "base_uri": "https://localhost:8080/"
        },
        "id": "TNIIGWQF9rps",
        "outputId": "d43dc67c-a0cc-4277-c936-e8188651738b"
      },
      "execution_count": null,
      "outputs": [
        {
          "output_type": "execute_result",
          "data": {
            "text/plain": [
              "Loc          Gender      \n",
              "Bellevue     Female          75103.0\n",
              "             Male            76315.0\n",
              "             Not revealed    86860.0\n",
              "Los Angeles  Female          72568.0\n",
              "             Male            74056.0\n",
              "             Not revealed    78643.0\n",
              "Wellington   Female          70732.0\n",
              "             Male            73613.0\n",
              "             Not revealed    75965.0\n",
              "Name: Salary, dtype: float64"
            ]
          },
          "metadata": {},
          "execution_count": 73
        }
      ]
    }
  ],
  "metadata": {
    "colab": {
      "provenance": [],
      "include_colab_link": true
    },
    "kernelspec": {
      "display_name": "Python 3",
      "name": "python3"
    },
    "language_info": {
      "name": "python"
    }
  },
  "nbformat": 4,
  "nbformat_minor": 0
}